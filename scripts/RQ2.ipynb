{
 "cells": [
  {
   "cell_type": "code",
   "execution_count": 1,
   "metadata": {},
   "outputs": [],
   "source": [
    "import numpy as np\n",
    "import pandas as pd\n",
    "from scipy import stats"
   ]
  },
  {
   "cell_type": "code",
   "execution_count": 2,
   "metadata": {},
   "outputs": [],
   "source": [
    "dfcoaches = pd.read_json('coaches.json',encoding='utf-8')\n",
    "dfplayers = pd.read_json('players.json',encoding='utf-8')\n",
    "dfteams = pd.read_json('teams.json',encoding='utf-8')\n",
    "dfevents = pd.read_json('events_England.json',encoding='utf-8')\n",
    "dfmatches = pd.read_json('matches_England.json',encoding='utf-8')"
   ]
  },
  {
   "cell_type": "code",
   "execution_count": 3,
   "metadata": {},
   "outputs": [],
   "source": [
    "#Distinguishing HOME,AWAY teams for each match and result of match.\n",
    "\n",
    "hometeams = []\n",
    "homeresult = []\n",
    "awayteams = []\n",
    "awayresult = []\n",
    "\n",
    "for index,row in dfmatches.iterrows():\n",
    "    a,b,c,d = row['label'].replace('-',',').split(',')\n",
    "    hometeams.append(a)\n",
    "    awayteams.append(b)\n",
    "    if int(c)>int(d):\n",
    "        homeresult.append('win')\n",
    "        awayresult.append('lose')\n",
    "    elif int(c)<int(d):\n",
    "        awayresult.append('win')\n",
    "        homeresult.append('lose')\n",
    "    else:\n",
    "        awayresult.append('draw')\n",
    "        homeresult.append('draw')"
   ]
  },
  {
   "cell_type": "code",
   "execution_count": 4,
   "metadata": {},
   "outputs": [],
   "source": [
    "#Adding needed columns for our test to the dataframe of Mtaches. \n",
    "\n",
    "dfmatches['hometeams'] = hometeams\n",
    "dfmatches['awayteams'] = awayteams\n",
    "dfmatches['homeresult'] = homeresult\n",
    "dfmatches['awayresult'] = awayresult"
   ]
  },
  {
   "cell_type": "code",
   "execution_count": 5,
   "metadata": {},
   "outputs": [
    {
     "data": {
      "text/html": [
       "<div>\n",
       "<style scoped>\n",
       "    .dataframe tbody tr th:only-of-type {\n",
       "        vertical-align: middle;\n",
       "    }\n",
       "\n",
       "    .dataframe tbody tr th {\n",
       "        vertical-align: top;\n",
       "    }\n",
       "\n",
       "    .dataframe thead th {\n",
       "        text-align: right;\n",
       "    }\n",
       "</style>\n",
       "<table border=\"1\" class=\"dataframe\">\n",
       "  <thead>\n",
       "    <tr style=\"text-align: right;\">\n",
       "      <th></th>\n",
       "      <th>competitionId</th>\n",
       "      <th>date</th>\n",
       "      <th>dateutc</th>\n",
       "      <th>duration</th>\n",
       "      <th>gameweek</th>\n",
       "      <th>label</th>\n",
       "      <th>referees</th>\n",
       "      <th>roundId</th>\n",
       "      <th>seasonId</th>\n",
       "      <th>status</th>\n",
       "      <th>teamsData</th>\n",
       "      <th>venue</th>\n",
       "      <th>winner</th>\n",
       "      <th>wyId</th>\n",
       "      <th>hometeams</th>\n",
       "      <th>awayteams</th>\n",
       "      <th>homeresult</th>\n",
       "      <th>awayresult</th>\n",
       "    </tr>\n",
       "  </thead>\n",
       "  <tbody>\n",
       "    <tr>\n",
       "      <th>0</th>\n",
       "      <td>364</td>\n",
       "      <td>May 13, 2018 at 4:00:00 PM GMT+2</td>\n",
       "      <td>2018-05-13 14:00:00</td>\n",
       "      <td>Regular</td>\n",
       "      <td>38</td>\n",
       "      <td>Burnley - AFC Bournemouth, 1 - 2</td>\n",
       "      <td>[{'refereeId': 385705, 'role': 'referee'}, {'r...</td>\n",
       "      <td>4405654</td>\n",
       "      <td>181150</td>\n",
       "      <td>Played</td>\n",
       "      <td>{'1646': {'scoreET': 0, 'coachId': 8880, 'side...</td>\n",
       "      <td>Turf Moor</td>\n",
       "      <td>1659</td>\n",
       "      <td>2500089</td>\n",
       "      <td>Burnley</td>\n",
       "      <td>AFC Bournemouth</td>\n",
       "      <td>lose</td>\n",
       "      <td>win</td>\n",
       "    </tr>\n",
       "    <tr>\n",
       "      <th>1</th>\n",
       "      <td>364</td>\n",
       "      <td>May 13, 2018 at 4:00:00 PM GMT+2</td>\n",
       "      <td>2018-05-13 14:00:00</td>\n",
       "      <td>Regular</td>\n",
       "      <td>38</td>\n",
       "      <td>Crystal Palace - West Bromwich Albion, 2 - 0</td>\n",
       "      <td>[{'refereeId': 381851, 'role': 'referee'}, {'r...</td>\n",
       "      <td>4405654</td>\n",
       "      <td>181150</td>\n",
       "      <td>Played</td>\n",
       "      <td>{'1628': {'scoreET': 0, 'coachId': 8357, 'side...</td>\n",
       "      <td>Selhurst Park</td>\n",
       "      <td>1628</td>\n",
       "      <td>2500090</td>\n",
       "      <td>Crystal Palace</td>\n",
       "      <td>West Bromwich Albion</td>\n",
       "      <td>win</td>\n",
       "      <td>lose</td>\n",
       "    </tr>\n",
       "    <tr>\n",
       "      <th>2</th>\n",
       "      <td>364</td>\n",
       "      <td>May 13, 2018 at 4:00:00 PM GMT+2</td>\n",
       "      <td>2018-05-13 14:00:00</td>\n",
       "      <td>Regular</td>\n",
       "      <td>38</td>\n",
       "      <td>Huddersfield Town - Arsenal, 0 - 1</td>\n",
       "      <td>[{'refereeId': 384965, 'role': 'referee'}, {'r...</td>\n",
       "      <td>4405654</td>\n",
       "      <td>181150</td>\n",
       "      <td>Played</td>\n",
       "      <td>{'1609': {'scoreET': 0, 'coachId': 7845, 'side...</td>\n",
       "      <td>The John Smith's Stadium</td>\n",
       "      <td>1609</td>\n",
       "      <td>2500091</td>\n",
       "      <td>Huddersfield Town</td>\n",
       "      <td>Arsenal</td>\n",
       "      <td>lose</td>\n",
       "      <td>win</td>\n",
       "    </tr>\n",
       "    <tr>\n",
       "      <th>3</th>\n",
       "      <td>364</td>\n",
       "      <td>May 13, 2018 at 4:00:00 PM GMT+2</td>\n",
       "      <td>2018-05-13 14:00:00</td>\n",
       "      <td>Regular</td>\n",
       "      <td>38</td>\n",
       "      <td>Liverpool - Brighton &amp; Hove Albion, 4 - 0</td>\n",
       "      <td>[{'refereeId': 385704, 'role': 'referee'}, {'r...</td>\n",
       "      <td>4405654</td>\n",
       "      <td>181150</td>\n",
       "      <td>Played</td>\n",
       "      <td>{'1651': {'scoreET': 0, 'coachId': 8093, 'side...</td>\n",
       "      <td>Anfield</td>\n",
       "      <td>1612</td>\n",
       "      <td>2500092</td>\n",
       "      <td>Liverpool</td>\n",
       "      <td>Brighton &amp; Hove Albion</td>\n",
       "      <td>win</td>\n",
       "      <td>lose</td>\n",
       "    </tr>\n",
       "    <tr>\n",
       "      <th>4</th>\n",
       "      <td>364</td>\n",
       "      <td>May 13, 2018 at 4:00:00 PM GMT+2</td>\n",
       "      <td>2018-05-13 14:00:00</td>\n",
       "      <td>Regular</td>\n",
       "      <td>38</td>\n",
       "      <td>Manchester United - Watford, 1 - 0</td>\n",
       "      <td>[{'refereeId': 381853, 'role': 'referee'}, {'r...</td>\n",
       "      <td>4405654</td>\n",
       "      <td>181150</td>\n",
       "      <td>Played</td>\n",
       "      <td>{'1644': {'scoreET': 0, 'coachId': 93112, 'sid...</td>\n",
       "      <td>Old Trafford</td>\n",
       "      <td>1611</td>\n",
       "      <td>2500093</td>\n",
       "      <td>Manchester United</td>\n",
       "      <td>Watford</td>\n",
       "      <td>win</td>\n",
       "      <td>lose</td>\n",
       "    </tr>\n",
       "  </tbody>\n",
       "</table>\n",
       "</div>"
      ],
      "text/plain": [
       "   competitionId                              date              dateutc  \\\n",
       "0            364  May 13, 2018 at 4:00:00 PM GMT+2  2018-05-13 14:00:00   \n",
       "1            364  May 13, 2018 at 4:00:00 PM GMT+2  2018-05-13 14:00:00   \n",
       "2            364  May 13, 2018 at 4:00:00 PM GMT+2  2018-05-13 14:00:00   \n",
       "3            364  May 13, 2018 at 4:00:00 PM GMT+2  2018-05-13 14:00:00   \n",
       "4            364  May 13, 2018 at 4:00:00 PM GMT+2  2018-05-13 14:00:00   \n",
       "\n",
       "  duration  gameweek                                         label  \\\n",
       "0  Regular        38              Burnley - AFC Bournemouth, 1 - 2   \n",
       "1  Regular        38  Crystal Palace - West Bromwich Albion, 2 - 0   \n",
       "2  Regular        38            Huddersfield Town - Arsenal, 0 - 1   \n",
       "3  Regular        38     Liverpool - Brighton & Hove Albion, 4 - 0   \n",
       "4  Regular        38            Manchester United - Watford, 1 - 0   \n",
       "\n",
       "                                            referees  roundId  seasonId  \\\n",
       "0  [{'refereeId': 385705, 'role': 'referee'}, {'r...  4405654    181150   \n",
       "1  [{'refereeId': 381851, 'role': 'referee'}, {'r...  4405654    181150   \n",
       "2  [{'refereeId': 384965, 'role': 'referee'}, {'r...  4405654    181150   \n",
       "3  [{'refereeId': 385704, 'role': 'referee'}, {'r...  4405654    181150   \n",
       "4  [{'refereeId': 381853, 'role': 'referee'}, {'r...  4405654    181150   \n",
       "\n",
       "   status                                          teamsData  \\\n",
       "0  Played  {'1646': {'scoreET': 0, 'coachId': 8880, 'side...   \n",
       "1  Played  {'1628': {'scoreET': 0, 'coachId': 8357, 'side...   \n",
       "2  Played  {'1609': {'scoreET': 0, 'coachId': 7845, 'side...   \n",
       "3  Played  {'1651': {'scoreET': 0, 'coachId': 8093, 'side...   \n",
       "4  Played  {'1644': {'scoreET': 0, 'coachId': 93112, 'sid...   \n",
       "\n",
       "                      venue  winner     wyId           hometeams  \\\n",
       "0                 Turf Moor    1659  2500089            Burnley    \n",
       "1             Selhurst Park    1628  2500090     Crystal Palace    \n",
       "2  The John Smith's Stadium    1609  2500091  Huddersfield Town    \n",
       "3                   Anfield    1612  2500092          Liverpool    \n",
       "4              Old Trafford    1611  2500093  Manchester United    \n",
       "\n",
       "                 awayteams homeresult awayresult  \n",
       "0          AFC Bournemouth       lose        win  \n",
       "1     West Bromwich Albion        win       lose  \n",
       "2                  Arsenal       lose        win  \n",
       "3   Brighton & Hove Albion        win       lose  \n",
       "4                  Watford        win       lose  "
      ]
     },
     "execution_count": 5,
     "metadata": {},
     "output_type": "execute_result"
    }
   ],
   "source": [
    "dfmatches.head()"
   ]
  },
  {
   "cell_type": "code",
   "execution_count": 18,
   "metadata": {},
   "outputs": [
    {
     "name": "stdout",
     "output_type": "stream",
     "text": [
      "{'Leicester City ', 'Southampton ', 'Burnley ', 'Brighton & Hove Albion ', 'Watford ', 'Stoke City ', 'West Ham United ', 'Tottenham Hotspur ', 'Chelsea ', 'AFC Bournemouth ', 'Arsenal ', 'West Bromwich Albion ', 'Newcastle United ', 'Manchester City ', 'Everton ', 'Swansea City ', 'Huddersfield Town ', 'Liverpool ', 'Crystal Palace ', 'Manchester United '}\n"
     ]
    }
   ],
   "source": [
    "#collecting teams playing in PL of England.\n",
    "\n",
    "print(set(dfmatches['hometeams']))"
   ]
  },
  {
   "cell_type": "code",
   "execution_count": 19,
   "metadata": {},
   "outputs": [],
   "source": [
    "#Selecting 5 teams for doing the test.\n",
    "\n",
    "selected_teams = ['Manchester United', 'Watford', 'Liverpool', 'Crystal Palace', 'Chelsea']\n",
    "# results = dict.fromkeys(selected_teams,[0]*6)\n",
    "results=np.zeros((5,6), dtype=int)"
   ]
  },
  {
   "cell_type": "code",
   "execution_count": 20,
   "metadata": {},
   "outputs": [],
   "source": [
    "#calculating No. of WIN,LOSE and DRAW of selected teams in the season.\n",
    "\n",
    "for index,row in dfmatches.iterrows():\n",
    "    for i in range(0,5):\n",
    "        \n",
    "        if (str(dfmatches['hometeams'][index]).strip() == selected_teams[i]):\n",
    "            if (str(dfmatches['homeresult'][index]).strip() == 'win'):\n",
    "                results[i][0] +=1\n",
    "            if (str(dfmatches['homeresult'][index]).strip() == 'draw'):\n",
    "                results[i][1] +=1\n",
    "            if (str(dfmatches['homeresult'][index]).strip() == 'lose'):\n",
    "                results[i][2] +=1\n",
    "        if (str(dfmatches['awayteams'][index]).strip() == selected_teams[i]):\n",
    "            if (str(dfmatches['awayresult'][index]).strip() == 'win'):\n",
    "                results[i][3] +=1\n",
    "            if (str(dfmatches['awayresult'][index]).strip() == 'draw'):\n",
    "                results[i][4] +=1\n",
    "            if (str(dfmatches['awayresult'][index]).strip() == 'lose'):\n",
    "                results[i][5] +=1"
   ]
  },
  {
   "cell_type": "code",
   "execution_count": 10,
   "metadata": {},
   "outputs": [
    {
     "name": "stdout",
     "output_type": "stream",
     "text": [
      "[[15  2  2 10  4  5]\n",
      " [ 7  6  6  4  2 13]\n",
      " [12  7  0  9  5  5]\n",
      " [ 7  5  7  4  6  9]\n",
      " [11  4  4 10  3  6]]\n"
     ]
    }
   ],
   "source": [
    "print(results)"
   ]
  },
  {
   "cell_type": "code",
   "execution_count": 22,
   "metadata": {},
   "outputs": [
    {
     "data": {
      "text/html": [
       "<div>\n",
       "<style scoped>\n",
       "    .dataframe tbody tr th:only-of-type {\n",
       "        vertical-align: middle;\n",
       "    }\n",
       "\n",
       "    .dataframe tbody tr th {\n",
       "        vertical-align: top;\n",
       "    }\n",
       "\n",
       "    .dataframe thead th {\n",
       "        text-align: right;\n",
       "    }\n",
       "</style>\n",
       "<table border=\"1\" class=\"dataframe\">\n",
       "  <thead>\n",
       "    <tr style=\"text-align: right;\">\n",
       "      <th></th>\n",
       "      <th>homewin</th>\n",
       "      <th>homedraw</th>\n",
       "      <th>homelose</th>\n",
       "      <th>awaywin</th>\n",
       "      <th>awaydraw</th>\n",
       "      <th>awaylose</th>\n",
       "    </tr>\n",
       "  </thead>\n",
       "  <tbody>\n",
       "    <tr>\n",
       "      <th>Manchester United</th>\n",
       "      <td>15</td>\n",
       "      <td>2</td>\n",
       "      <td>2</td>\n",
       "      <td>10</td>\n",
       "      <td>4</td>\n",
       "      <td>5</td>\n",
       "    </tr>\n",
       "    <tr>\n",
       "      <th>Watford</th>\n",
       "      <td>7</td>\n",
       "      <td>6</td>\n",
       "      <td>6</td>\n",
       "      <td>4</td>\n",
       "      <td>2</td>\n",
       "      <td>13</td>\n",
       "    </tr>\n",
       "    <tr>\n",
       "      <th>Liverpool</th>\n",
       "      <td>12</td>\n",
       "      <td>7</td>\n",
       "      <td>0</td>\n",
       "      <td>9</td>\n",
       "      <td>5</td>\n",
       "      <td>5</td>\n",
       "    </tr>\n",
       "    <tr>\n",
       "      <th>Crystal Palace</th>\n",
       "      <td>7</td>\n",
       "      <td>5</td>\n",
       "      <td>7</td>\n",
       "      <td>4</td>\n",
       "      <td>6</td>\n",
       "      <td>9</td>\n",
       "    </tr>\n",
       "    <tr>\n",
       "      <th>Chelsea</th>\n",
       "      <td>11</td>\n",
       "      <td>4</td>\n",
       "      <td>4</td>\n",
       "      <td>10</td>\n",
       "      <td>3</td>\n",
       "      <td>6</td>\n",
       "    </tr>\n",
       "  </tbody>\n",
       "</table>\n",
       "</div>"
      ],
      "text/plain": [
       "                   homewin  homedraw  homelose  awaywin  awaydraw  awaylose\n",
       "Manchester United       15         2         2       10         4         5\n",
       "Watford                  7         6         6        4         2        13\n",
       "Liverpool               12         7         0        9         5         5\n",
       "Crystal Palace           7         5         7        4         6         9\n",
       "Chelsea                 11         4         4       10         3         6"
      ]
     },
     "execution_count": 22,
     "metadata": {},
     "output_type": "execute_result"
    }
   ],
   "source": [
    "#Building Contingency table for selected teams.\n",
    "\n",
    "contin_table = pd.DataFrame(results, columns = ['homewin', 'homedraw', 'homelose', 'awaywin', 'awaydraw', 'awaylose'], index=selected_teams)\n",
    "contin_table"
   ]
  },
  {
   "cell_type": "code",
   "execution_count": 23,
   "metadata": {},
   "outputs": [
    {
     "data": {
      "text/plain": [
       "(30.261197432250068,\n",
       " 0.0657304343872097,\n",
       " 20,\n",
       " array([[10.4,  4.8,  3.8,  7.4,  4. ,  7.6],\n",
       "        [10.4,  4.8,  3.8,  7.4,  4. ,  7.6],\n",
       "        [10.4,  4.8,  3.8,  7.4,  4. ,  7.6],\n",
       "        [10.4,  4.8,  3.8,  7.4,  4. ,  7.6],\n",
       "        [10.4,  4.8,  3.8,  7.4,  4. ,  7.6]]))"
      ]
     },
     "execution_count": 23,
     "metadata": {},
     "output_type": "execute_result"
    }
   ],
   "source": [
    "#Doing Chi square test.\n",
    "\n",
    "stats.chi2_contingency(contin_table)"
   ]
  },
  {
   "cell_type": "markdown",
   "metadata": {},
   "source": [
    "## Hypothsis Test - Chi Square Test"
   ]
  },
  {
   "cell_type": "markdown",
   "metadata": {},
   "source": [
    "#### H0 is the hypothesis that there is no differnece between result of a match for a team if that team is on home or away side.\n",
    "#### H1 is the hypothesis that there is differnece in a team's performance when that is on home or away side. \n",
    "#### Rejecting threshold for doing this test is supposed to be 0.05.\n",
    "#### Selected teams for analysis are as follow: {Manchester United, Watford, Liverpool, Crystal Palace, Chelsea}"
   ]
  },
  {
   "cell_type": "markdown",
   "metadata": {},
   "source": [
    "## Result"
   ]
  },
  {
   "cell_type": "markdown",
   "metadata": {},
   "source": [
    "### As obtained P-value (0.06) is greater than 0.05, so we can not reject H0 . so by this observations we can say H0 is True."
   ]
  }
 ],
 "metadata": {
  "kernelspec": {
   "display_name": "Python 3",
   "language": "python",
   "name": "python3"
  },
  "language_info": {
   "codemirror_mode": {
    "name": "ipython",
    "version": 3
   },
   "file_extension": ".py",
   "mimetype": "text/x-python",
   "name": "python",
   "nbconvert_exporter": "python",
   "pygments_lexer": "ipython3",
   "version": "3.7.3"
  }
 },
 "nbformat": 4,
 "nbformat_minor": 2
}
