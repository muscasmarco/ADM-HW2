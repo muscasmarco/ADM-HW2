{
 "cells": [
  {
   "cell_type": "markdown",
   "metadata": {},
   "source": [
    "# Homework 2 - Soccer analytics"
   ]
  },
  {
   "cell_type": "markdown",
   "metadata": {},
   "source": [
    "## Libraries"
   ]
  },
  {
   "cell_type": "code",
   "execution_count": 83,
   "metadata": {},
   "outputs": [],
   "source": [
    "import pandas as pd\n",
    "import re \n",
    "import numpy as np\n",
    "import matplotlib.pyplot as plt\n",
    "import operator\n",
    "from datetime import datetime\n",
    "from matplotlib.pyplot import Rectangle\n",
    "from matplotlib.patches import Arc, ConnectionPatch\n",
    "import seaborn as sns\n",
    "from scipy import stats\n",
    "import time\n",
    "from datetime import date"
   ]
  },
  {
   "cell_type": "markdown",
   "metadata": {},
   "source": [
    "## [RQ1] Who wants to be a Champion?"
   ]
  },
  {
   "cell_type": "markdown",
   "metadata": {},
   "source": [
    "The goal of this exercise is to find the best players (and the worst ones) that tried most passes while succeding (or failing).\n",
    "\n",
    "The value stored in a row (match result) that contains match infos is stored as a string, which needs to be parsed or manipulated in some way to extract relevant information.\n",
    "We used a division of string by dividing character.\n",
    "First we divide the teams from the score, then again with a different character for the individual values.\n"
   ]
  },
  {
   "cell_type": "code",
   "execution_count": 25,
   "metadata": {},
   "outputs": [],
   "source": [
    "def get_score_from_label(string):\n",
    "    string = str(string) # Make sure it's a string, altough not really necessary\n",
    "    tokens = re.split('; |,', string) # Split by characters\n",
    "    teams_raw = re.split('-', tokens[0])#Tokens[0] is the teams playing\n",
    "    teams = list()\n",
    "    for t in teams_raw:\n",
    "        teams.extend([str(t.strip())])#We want leading and trailing whitespaces removed\n",
    "    \n",
    "    score_raw = re.split('-', tokens[1])# Getting individual scores\n",
    "    score = list()\n",
    "    for s in score_raw:\n",
    "        score.extend([int(s.strip())])# Whitespaces removed\n",
    "        \n",
    "    return teams, score"
   ]
  },
  {
   "cell_type": "markdown",
   "metadata": {},
   "source": [
    "Here we are creating a dictionary to contain, for each team (the team id is the key), the performances for each week. \n",
    "Score = 3? Match won. Score = 1? A tie. Score = 0? Match lost. \n",
    "Each week will have a corresponding index in the 'performance array',with an associated value in {3,1,0}. "
   ]
  },
  {
   "cell_type": "code",
   "execution_count": 26,
   "metadata": {},
   "outputs": [],
   "source": [
    "def get_dict_results(nation):\n",
    "    ds_path = './DS/matches_'+nation+'.json'\n",
    "    matches_ds = pd.read_json(ds_path)\n",
    "\n",
    "    results = {}\n",
    "    \n",
    "    for i in range(len(matches_ds)):\n",
    "        label = matches_ds['label'][i]\n",
    "        week = matches_ds['gameweek'][i] # The gameweek goes from 1 to 38\n",
    "\n",
    "        teams, score = get_score_from_label(label)#Getting the match info\n",
    "        \n",
    "        # Since there are 2 teams for each match, we are also registering\n",
    "        # 2 teams's information at a time.\n",
    "        team1 = teams[0]\n",
    "        team2 = teams[1]\n",
    "        \n",
    "        score1 = score[0]        \n",
    "        score2 = score[1]\n",
    "        \n",
    "        # We need to check if a team is in the keys of the dictionary\n",
    "        # i.e. it has already a performance array that might contain data\n",
    "        if team1 not in results.keys():\n",
    "            results[team1] = np.zeros(38) # The 'performance array'\n",
    "            \n",
    "        if team2 not in results.keys():\n",
    "            results[team2] = np.zeros(38)\n",
    "        \n",
    "        # Here we are registering the score for a given week\n",
    "        # Side note: since the game week in the dataset starts from 1, a week-1 will \n",
    "        # give us the correct associated week in the performance array.\n",
    "        if score1 > score2:\n",
    "            # Winner is team 1\n",
    "            results[team1][week-1] = 3\n",
    "            results[team2][week-1] = 0\n",
    "            \n",
    "        elif score1 < score2: \n",
    "            # Winner is team 2\n",
    "            results[team1][week-1] = 0\n",
    "            results[team2][week-1] = 3\n",
    "        else:\n",
    "            # It's a tie\n",
    "            results[team1][week-1] = 1\n",
    "            results[team2][week-1] = 1\n",
    "            \n",
    "    return results"
   ]
  },
  {
   "cell_type": "markdown",
   "metadata": {},
   "source": [
    "For calculating the max streak of wins, we check for consecutive occurrences of 3s, so when we find another value the streak is saved and the counter reset."
   ]
  },
  {
   "cell_type": "code",
   "execution_count": 27,
   "metadata": {},
   "outputs": [],
   "source": [
    "def max_streak(weekly_point):\n",
    "    streaks = []\n",
    "    current_streak = 0 # This acts as the counter\n",
    "    for i in weekly_point:    \n",
    "        if i == 3:\n",
    "            current_streak +=1\n",
    "        else:\n",
    "            \n",
    "            if current_streak > 0:\n",
    "                streaks.extend([current_streak])\n",
    "            current_streak = 0\n",
    "            \n",
    "    # Python sorts in ascending order. For ease of use, we want it in reversed\n",
    "    # order, which is descending order\n",
    "    streaks.sort()\n",
    "    streaks.reverse()\n",
    "    return streaks"
   ]
  },
  {
   "cell_type": "markdown",
   "metadata": {},
   "source": [
    "For calculating the min streak of matches lost, we check for consecutive occurrences of 0s, so when we find another value the streak is saved and the counter reset."
   ]
  },
  {
   "cell_type": "code",
   "execution_count": 28,
   "metadata": {},
   "outputs": [],
   "source": [
    "def min_streak(weekly_point):\n",
    "    streaks = []\n",
    "    current_streak = 0\n",
    "    for i in weekly_point:    \n",
    "        if i == 0:\n",
    "            current_streak +=1\n",
    "        else:\n",
    "            \n",
    "            if current_streak > 0:\n",
    "                streaks.extend([current_streak])\n",
    "            current_streak = 0\n",
    "            \n",
    "    streaks.sort()\n",
    "    streaks.reverse()\n",
    "    return streaks\n"
   ]
  },
  {
   "cell_type": "code",
   "execution_count": 29,
   "metadata": {},
   "outputs": [
    {
     "data": {
      "image/png": "[encoded data removed]",
      "text/plain": [
       "<Figure size 720x504 with 1 Axes>"
      ]
     },
     "metadata": {},
     "output_type": "display_data"
    }
   ],
   "source": [
    "# First load the relevant datasets\n",
    "players_ds = pd.read_json('./DS/players.json')\n",
    "coaches_ds = pd.read_json('./DS/coaches.json')\n",
    "teams_ds = pd.read_json('./DS/teams.json')\n",
    "nations = ['England'] # It's a list so other nations can be added easily\n",
    "\n",
    "res = {}\n",
    "teams_streaks = []\n",
    "teams_streaks_loss = []\n",
    "\n",
    "for nat in nations:\n",
    "    tmp_res = get_dict_results(nat)\n",
    "    res.update(tmp_res)\n",
    "\n",
    "# Since the figure to plot in will be used after in a loop, \n",
    "# we declare it before said loop. Also setting the style.\n",
    "plt.style.use('seaborn-darkgrid')\n",
    "fig = plt.figure(figsize=(10,7))\n",
    "\n",
    "# Sorting now so the legend in the plot is ordered by team performance\n",
    "team_scores = [[key, res[key]] for key in res.keys()]\n",
    "team_scores.sort(key=lambda r : sum(r[1]))\n",
    "team_scores.reverse()\n",
    "\n",
    "for team in team_scores: # A key is a team id\n",
    "    team_name = team[0]\n",
    "    team_data = team[1] # Get the season performance array\n",
    "\n",
    "    week_names = list(range(1, 39))\n",
    "\n",
    "    points = np.zeros(38) # Total points\n",
    "    for i in range(0, 38):\n",
    "        points[i] = sum(team_data[0:i+1]) # For the line plot, we want the total number of points until the nth week\n",
    "\n",
    "\n",
    "    # Here calculate the performance of the team using its 'performance array'\n",
    "    team_streak = max_streak(team_data)\n",
    "    team_streak_loss= min_streak(team_data)\n",
    "\n",
    "    # Save the streaks for later, also save the key for later name retrieval\n",
    "    teams_streaks.extend([[team_name, team_streak]])\n",
    "    teams_streaks_loss.extend([[team_name, team_streak_loss]])\n",
    "\n",
    "    # Add line to the plot\n",
    "    plt.plot(week_names, points, label=team_name) #Without calling plt.show() immediately after, the lines will overlap\n",
    "\n",
    "plt.legend(bbox_to_anchor=(1, 1)) # Make a legend and put it on the right\n",
    "plt.xticks(week_names) # Give the names for each week (tick is an increment, so a new week)\n",
    "plt.xlabel('Week number')\n",
    "plt.ylabel('Points')\n",
    "plt.show()"
   ]
  },
  {
   "cell_type": "markdown",
   "metadata": {},
   "source": [
    "Here starts the second part of the exercise. We want to know which are the teams that had the largest win/loss streak and the second after."
   ]
  },
  {
   "cell_type": "code",
   "execution_count": 30,
   "metadata": {},
   "outputs": [
    {
     "name": "stdout",
     "output_type": "stream",
     "text": [
      "\n",
      "Best performing team:  Manchester City\n",
      "Second best performing team:  Tottenham Hotspur\n",
      "----\n",
      "Worst performing team:  West Bromwich Albion\n",
      "Second worst performing team:  Crystal Palace\n"
     ]
    }
   ],
   "source": [
    "# Since the sorting happens by the first value of the (ordered) performance array, \n",
    "# we have to use this lambda to tell the sorting function to use said value as the key for ordering.\n",
    "teams_streaks.sort(key = lambda teams_streaks: teams_streaks[1][0])\n",
    "teams_streaks_loss.sort(key = lambda teams_streaks_loss: teams_streaks_loss[1][0])\n",
    "\n",
    "# Go from ascending order from descending order. This way we can easily get the max value\n",
    "teams_streaks.reverse()\n",
    "teams_streaks_loss.reverse()\n",
    "\n",
    "first_worst = teams_streaks_loss[0][0]\n",
    "second_worst = teams_streaks_loss[1][0]\n",
    "\n",
    "first_best = teams_streaks[0][0]\n",
    "second_best = teams_streaks[1][0]\n",
    "\n",
    "print() # Just adding a new line after the plot\n",
    "print('Best performing team: ', first_best)\n",
    "print('Second best performing team: ', second_best)\n",
    "print('----')\n",
    "print('Worst performing team: ', first_worst)\n",
    "print('Second worst performing team: ', second_worst)"
   ]
  },
  {
   "cell_type": "markdown",
   "metadata": {},
   "source": [
    "## [RQ2] Is there a home-field advantage?"
   ]
  },
  {
   "cell_type": "markdown",
   "metadata": {},
   "source": [
    "In this question we are looking for find out whether playing at home stadium can affect performance of a team or not.\n",
    "In this regard, we calculated WIN, LOSE and DRAW matches for 5 teams and formed a table for showing results. \n",
    "After that, we implemented a Chi square test for finding out whether different results of teams at home and away stadiums are meaningful or not."
   ]
  },
  {
   "cell_type": "code",
   "execution_count": 37,
   "metadata": {},
   "outputs": [],
   "source": [
    "dfmatches = pd.read_json('./DS/matches_England.json',encoding='utf-8')"
   ]
  },
  {
   "cell_type": "code",
   "execution_count": 38,
   "metadata": {},
   "outputs": [],
   "source": [
    "#Distinguishing HOME,AWAY teams for each match and result of match.\n",
    "\n",
    "hometeams = []\n",
    "homeresult = []\n",
    "awayteams = []\n",
    "awayresult = []\n",
    "\n",
    "for index,row in dfmatches.iterrows():\n",
    "    a,b,c,d = row['label'].replace('-',',').split(',')\n",
    "    hometeams.append(a)\n",
    "    awayteams.append(b)\n",
    "    if int(c)>int(d):\n",
    "        homeresult.append('win')\n",
    "        awayresult.append('lose')\n",
    "    elif int(c)<int(d):\n",
    "        awayresult.append('win')\n",
    "        homeresult.append('lose')\n",
    "    else:\n",
    "        awayresult.append('draw')\n",
    "        homeresult.append('draw')"
   ]
  },
  {
   "cell_type": "code",
   "execution_count": 39,
   "metadata": {},
   "outputs": [],
   "source": [
    "#Adding needed columns for our test to the dataframe of Mtaches. \n",
    "\n",
    "dfmatches['hometeams'] = hometeams\n",
    "dfmatches['awayteams'] = awayteams\n",
    "dfmatches['homeresult'] = homeresult\n",
    "dfmatches['awayresult'] = awayresult"
   ]
  },
  {
   "cell_type": "code",
   "execution_count": 40,
   "metadata": {},
   "outputs": [
    {
     "data": {
      "text/html": [
       "<div>\n",
       "<style scoped>\n",
       "    .dataframe tbody tr th:only-of-type {\n",
       "        vertical-align: middle;\n",
       "    }\n",
       "\n",
       "    .dataframe tbody tr th {\n",
       "        vertical-align: top;\n",
       "    }\n",
       "\n",
       "    .dataframe thead th {\n",
       "        text-align: right;\n",
       "    }\n",
       "</style>\n",
       "<table border=\"1\" class=\"dataframe\">\n",
       "  <thead>\n",
       "    <tr style=\"text-align: right;\">\n",
       "      <th></th>\n",
       "      <th>competitionId</th>\n",
       "      <th>date</th>\n",
       "      <th>dateutc</th>\n",
       "      <th>duration</th>\n",
       "      <th>gameweek</th>\n",
       "      <th>label</th>\n",
       "      <th>referees</th>\n",
       "      <th>roundId</th>\n",
       "      <th>seasonId</th>\n",
       "      <th>status</th>\n",
       "      <th>teamsData</th>\n",
       "      <th>venue</th>\n",
       "      <th>winner</th>\n",
       "      <th>wyId</th>\n",
       "      <th>hometeams</th>\n",
       "      <th>awayteams</th>\n",
       "      <th>homeresult</th>\n",
       "      <th>awayresult</th>\n",
       "    </tr>\n",
       "  </thead>\n",
       "  <tbody>\n",
       "    <tr>\n",
       "      <th>0</th>\n",
       "      <td>364</td>\n",
       "      <td>May 13, 2018 at 4:00:00 PM GMT+2</td>\n",
       "      <td>2018-05-13 14:00:00</td>\n",
       "      <td>Regular</td>\n",
       "      <td>38</td>\n",
       "      <td>Burnley - AFC Bournemouth, 1 - 2</td>\n",
       "      <td>[{'refereeId': 385705, 'role': 'referee'}, {'r...</td>\n",
       "      <td>4405654</td>\n",
       "      <td>181150</td>\n",
       "      <td>Played</td>\n",
       "      <td>{'1646': {'scoreET': 0, 'coachId': 8880, 'side...</td>\n",
       "      <td>Turf Moor</td>\n",
       "      <td>1659</td>\n",
       "      <td>2500089</td>\n",
       "      <td>Burnley</td>\n",
       "      <td>AFC Bournemouth</td>\n",
       "      <td>lose</td>\n",
       "      <td>win</td>\n",
       "    </tr>\n",
       "    <tr>\n",
       "      <th>1</th>\n",
       "      <td>364</td>\n",
       "      <td>May 13, 2018 at 4:00:00 PM GMT+2</td>\n",
       "      <td>2018-05-13 14:00:00</td>\n",
       "      <td>Regular</td>\n",
       "      <td>38</td>\n",
       "      <td>Crystal Palace - West Bromwich Albion, 2 - 0</td>\n",
       "      <td>[{'refereeId': 381851, 'role': 'referee'}, {'r...</td>\n",
       "      <td>4405654</td>\n",
       "      <td>181150</td>\n",
       "      <td>Played</td>\n",
       "      <td>{'1628': {'scoreET': 0, 'coachId': 8357, 'side...</td>\n",
       "      <td>Selhurst Park</td>\n",
       "      <td>1628</td>\n",
       "      <td>2500090</td>\n",
       "      <td>Crystal Palace</td>\n",
       "      <td>West Bromwich Albion</td>\n",
       "      <td>win</td>\n",
       "      <td>lose</td>\n",
       "    </tr>\n",
       "    <tr>\n",
       "      <th>2</th>\n",
       "      <td>364</td>\n",
       "      <td>May 13, 2018 at 4:00:00 PM GMT+2</td>\n",
       "      <td>2018-05-13 14:00:00</td>\n",
       "      <td>Regular</td>\n",
       "      <td>38</td>\n",
       "      <td>Huddersfield Town - Arsenal, 0 - 1</td>\n",
       "      <td>[{'refereeId': 384965, 'role': 'referee'}, {'r...</td>\n",
       "      <td>4405654</td>\n",
       "      <td>181150</td>\n",
       "      <td>Played</td>\n",
       "      <td>{'1609': {'scoreET': 0, 'coachId': 7845, 'side...</td>\n",
       "      <td>The John Smith's Stadium</td>\n",
       "      <td>1609</td>\n",
       "      <td>2500091</td>\n",
       "      <td>Huddersfield Town</td>\n",
       "      <td>Arsenal</td>\n",
       "      <td>lose</td>\n",
       "      <td>win</td>\n",
       "    </tr>\n",
       "    <tr>\n",
       "      <th>3</th>\n",
       "      <td>364</td>\n",
       "      <td>May 13, 2018 at 4:00:00 PM GMT+2</td>\n",
       "      <td>2018-05-13 14:00:00</td>\n",
       "      <td>Regular</td>\n",
       "      <td>38</td>\n",
       "      <td>Liverpool - Brighton &amp; Hove Albion, 4 - 0</td>\n",
       "      <td>[{'refereeId': 385704, 'role': 'referee'}, {'r...</td>\n",
       "      <td>4405654</td>\n",
       "      <td>181150</td>\n",
       "      <td>Played</td>\n",
       "      <td>{'1651': {'scoreET': 0, 'coachId': 8093, 'side...</td>\n",
       "      <td>Anfield</td>\n",
       "      <td>1612</td>\n",
       "      <td>2500092</td>\n",
       "      <td>Liverpool</td>\n",
       "      <td>Brighton &amp; Hove Albion</td>\n",
       "      <td>win</td>\n",
       "      <td>lose</td>\n",
       "    </tr>\n",
       "    <tr>\n",
       "      <th>4</th>\n",
       "      <td>364</td>\n",
       "      <td>May 13, 2018 at 4:00:00 PM GMT+2</td>\n",
       "      <td>2018-05-13 14:00:00</td>\n",
       "      <td>Regular</td>\n",
       "      <td>38</td>\n",
       "      <td>Manchester United - Watford, 1 - 0</td>\n",
       "      <td>[{'refereeId': 381853, 'role': 'referee'}, {'r...</td>\n",
       "      <td>4405654</td>\n",
       "      <td>181150</td>\n",
       "      <td>Played</td>\n",
       "      <td>{'1644': {'scoreET': 0, 'coachId': 93112, 'sid...</td>\n",
       "      <td>Old Trafford</td>\n",
       "      <td>1611</td>\n",
       "      <td>2500093</td>\n",
       "      <td>Manchester United</td>\n",
       "      <td>Watford</td>\n",
       "      <td>win</td>\n",
       "      <td>lose</td>\n",
       "    </tr>\n",
       "  </tbody>\n",
       "</table>\n",
       "</div>"
      ],
      "text/plain": [
       "   competitionId                              date              dateutc  \\\n",
       "0            364  May 13, 2018 at 4:00:00 PM GMT+2  2018-05-13 14:00:00   \n",
       "1            364  May 13, 2018 at 4:00:00 PM GMT+2  2018-05-13 14:00:00   \n",
       "2            364  May 13, 2018 at 4:00:00 PM GMT+2  2018-05-13 14:00:00   \n",
       "3            364  May 13, 2018 at 4:00:00 PM GMT+2  2018-05-13 14:00:00   \n",
       "4            364  May 13, 2018 at 4:00:00 PM GMT+2  2018-05-13 14:00:00   \n",
       "\n",
       "  duration  gameweek                                         label  \\\n",
       "0  Regular        38              Burnley - AFC Bournemouth, 1 - 2   \n",
       "1  Regular        38  Crystal Palace - West Bromwich Albion, 2 - 0   \n",
       "2  Regular        38            Huddersfield Town - Arsenal, 0 - 1   \n",
       "3  Regular        38     Liverpool - Brighton & Hove Albion, 4 - 0   \n",
       "4  Regular        38            Manchester United - Watford, 1 - 0   \n",
       "\n",
       "                                            referees  roundId  seasonId  \\\n",
       "0  [{'refereeId': 385705, 'role': 'referee'}, {'r...  4405654    181150   \n",
       "1  [{'refereeId': 381851, 'role': 'referee'}, {'r...  4405654    181150   \n",
       "2  [{'refereeId': 384965, 'role': 'referee'}, {'r...  4405654    181150   \n",
       "3  [{'refereeId': 385704, 'role': 'referee'}, {'r...  4405654    181150   \n",
       "4  [{'refereeId': 381853, 'role': 'referee'}, {'r...  4405654    181150   \n",
       "\n",
       "   status                                          teamsData  \\\n",
       "0  Played  {'1646': {'scoreET': 0, 'coachId': 8880, 'side...   \n",
       "1  Played  {'1628': {'scoreET': 0, 'coachId': 8357, 'side...   \n",
       "2  Played  {'1609': {'scoreET': 0, 'coachId': 7845, 'side...   \n",
       "3  Played  {'1651': {'scoreET': 0, 'coachId': 8093, 'side...   \n",
       "4  Played  {'1644': {'scoreET': 0, 'coachId': 93112, 'sid...   \n",
       "\n",
       "                      venue  winner     wyId           hometeams  \\\n",
       "0                 Turf Moor    1659  2500089            Burnley    \n",
       "1             Selhurst Park    1628  2500090     Crystal Palace    \n",
       "2  The John Smith's Stadium    1609  2500091  Huddersfield Town    \n",
       "3                   Anfield    1612  2500092          Liverpool    \n",
       "4              Old Trafford    1611  2500093  Manchester United    \n",
       "\n",
       "                 awayteams homeresult awayresult  \n",
       "0          AFC Bournemouth       lose        win  \n",
       "1     West Bromwich Albion        win       lose  \n",
       "2                  Arsenal       lose        win  \n",
       "3   Brighton & Hove Albion        win       lose  \n",
       "4                  Watford        win       lose  "
      ]
     },
     "execution_count": 40,
     "metadata": {},
     "output_type": "execute_result"
    }
   ],
   "source": [
    "dfmatches.head()"
   ]
  },
  {
   "cell_type": "code",
   "execution_count": 41,
   "metadata": {},
   "outputs": [
    {
     "name": "stdout",
     "output_type": "stream",
     "text": [
      "{'Crystal Palace ', 'Southampton ', 'Watford ', 'Brighton & Hove Albion ', 'Tottenham Hotspur ', 'Newcastle United ', 'West Bromwich Albion ', 'Stoke City ', 'Huddersfield Town ', 'West Ham United ', 'Arsenal ', 'Manchester City ', 'AFC Bournemouth ', 'Manchester United ', 'Leicester City ', 'Liverpool ', 'Everton ', 'Chelsea ', 'Swansea City ', 'Burnley '}\n"
     ]
    }
   ],
   "source": [
    "#collecting teams playing in PL of England.\n",
    "\n",
    "print(set(dfmatches['hometeams']))"
   ]
  },
  {
   "cell_type": "code",
   "execution_count": 42,
   "metadata": {},
   "outputs": [],
   "source": [
    "#Selecting 5 teams for doing the test.\n",
    "\n",
    "selected_teams = ['Manchester United', 'Watford', 'Liverpool', 'Crystal Palace', 'Chelsea']\n",
    "# results = dict.fromkeys(selected_teams,[0]*6)\n",
    "results=np.zeros((5,6), dtype=int)"
   ]
  },
  {
   "cell_type": "code",
   "execution_count": 43,
   "metadata": {},
   "outputs": [],
   "source": [
    "#calculating No. of WIN,LOSE and DRAW of selected teams in the season.\n",
    "\n",
    "for index,row in dfmatches.iterrows():\n",
    "    for i in range(0,5):\n",
    "        \n",
    "        if (str(dfmatches['hometeams'][index]).strip() == selected_teams[i]):\n",
    "            if (str(dfmatches['homeresult'][index]).strip() == 'win'):\n",
    "                results[i][0] +=1\n",
    "            if (str(dfmatches['homeresult'][index]).strip() == 'draw'):\n",
    "                results[i][1] +=1\n",
    "            if (str(dfmatches['homeresult'][index]).strip() == 'lose'):\n",
    "                results[i][2] +=1\n",
    "        if (str(dfmatches['awayteams'][index]).strip() == selected_teams[i]):\n",
    "            if (str(dfmatches['awayresult'][index]).strip() == 'win'):\n",
    "                results[i][3] +=1\n",
    "            if (str(dfmatches['awayresult'][index]).strip() == 'draw'):\n",
    "                results[i][4] +=1\n",
    "            if (str(dfmatches['awayresult'][index]).strip() == 'lose'):\n",
    "                results[i][5] +=1"
   ]
  },
  {
   "cell_type": "code",
   "execution_count": 44,
   "metadata": {},
   "outputs": [
    {
     "name": "stdout",
     "output_type": "stream",
     "text": [
      "[[15  2  2 10  4  5]\n",
      " [ 7  6  6  4  2 13]\n",
      " [12  7  0  9  5  5]\n",
      " [ 7  5  7  4  6  9]\n",
      " [11  4  4 10  3  6]]\n"
     ]
    }
   ],
   "source": [
    "print(results)"
   ]
  },
  {
   "cell_type": "code",
   "execution_count": 21,
   "metadata": {},
   "outputs": [
    {
     "data": {
      "text/html": [
       "<div>\n",
       "<style scoped>\n",
       "    .dataframe tbody tr th:only-of-type {\n",
       "        vertical-align: middle;\n",
       "    }\n",
       "\n",
       "    .dataframe tbody tr th {\n",
       "        vertical-align: top;\n",
       "    }\n",
       "\n",
       "    .dataframe thead th {\n",
       "        text-align: right;\n",
       "    }\n",
       "</style>\n",
       "<table border=\"1\" class=\"dataframe\">\n",
       "  <thead>\n",
       "    <tr style=\"text-align: right;\">\n",
       "      <th></th>\n",
       "      <th>homewin</th>\n",
       "      <th>homedraw</th>\n",
       "      <th>homelose</th>\n",
       "      <th>awaywin</th>\n",
       "      <th>awaydraw</th>\n",
       "      <th>awaylose</th>\n",
       "    </tr>\n",
       "  </thead>\n",
       "  <tbody>\n",
       "    <tr>\n",
       "      <th>Manchester United</th>\n",
       "      <td>15</td>\n",
       "      <td>2</td>\n",
       "      <td>2</td>\n",
       "      <td>10</td>\n",
       "      <td>4</td>\n",
       "      <td>5</td>\n",
       "    </tr>\n",
       "    <tr>\n",
       "      <th>Watford</th>\n",
       "      <td>7</td>\n",
       "      <td>6</td>\n",
       "      <td>6</td>\n",
       "      <td>4</td>\n",
       "      <td>2</td>\n",
       "      <td>13</td>\n",
       "    </tr>\n",
       "    <tr>\n",
       "      <th>Liverpool</th>\n",
       "      <td>12</td>\n",
       "      <td>7</td>\n",
       "      <td>0</td>\n",
       "      <td>9</td>\n",
       "      <td>5</td>\n",
       "      <td>5</td>\n",
       "    </tr>\n",
       "    <tr>\n",
       "      <th>Crystal Palace</th>\n",
       "      <td>7</td>\n",
       "      <td>5</td>\n",
       "      <td>7</td>\n",
       "      <td>4</td>\n",
       "      <td>6</td>\n",
       "      <td>9</td>\n",
       "    </tr>\n",
       "    <tr>\n",
       "      <th>Chelsea</th>\n",
       "      <td>11</td>\n",
       "      <td>4</td>\n",
       "      <td>4</td>\n",
       "      <td>10</td>\n",
       "      <td>3</td>\n",
       "      <td>6</td>\n",
       "    </tr>\n",
       "  </tbody>\n",
       "</table>\n",
       "</div>"
      ],
      "text/plain": [
       "                   homewin  homedraw  homelose  awaywin  awaydraw  awaylose\n",
       "Manchester United       15         2         2       10         4         5\n",
       "Watford                  7         6         6        4         2        13\n",
       "Liverpool               12         7         0        9         5         5\n",
       "Crystal Palace           7         5         7        4         6         9\n",
       "Chelsea                 11         4         4       10         3         6"
      ]
     },
     "execution_count": 21,
     "metadata": {},
     "output_type": "execute_result"
    }
   ],
   "source": [
    "#Building Contingency table for selected teams.\n",
    "\n",
    "contin_table = pd.DataFrame(results, columns = ['homewin', 'homedraw', 'homelose', 'awaywin', 'awaydraw', 'awaylose'], index=selected_teams)\n",
    "contin_table"
   ]
  },
  {
   "cell_type": "code",
   "execution_count": 45,
   "metadata": {},
   "outputs": [
    {
     "data": {
      "text/plain": [
       "(30.261197432250068,\n",
       " 0.0657304343872097,\n",
       " 20,\n",
       " array([[10.4,  4.8,  3.8,  7.4,  4. ,  7.6],\n",
       "        [10.4,  4.8,  3.8,  7.4,  4. ,  7.6],\n",
       "        [10.4,  4.8,  3.8,  7.4,  4. ,  7.6],\n",
       "        [10.4,  4.8,  3.8,  7.4,  4. ,  7.6],\n",
       "        [10.4,  4.8,  3.8,  7.4,  4. ,  7.6]]))"
      ]
     },
     "execution_count": 45,
     "metadata": {},
     "output_type": "execute_result"
    }
   ],
   "source": [
    "#Doing Chi square test.\n",
    "\n",
    "stats.chi2_contingency(contin_table)"
   ]
  },
  {
   "cell_type": "markdown",
   "metadata": {},
   "source": [
    "###### Hypothsis Test - Chi Square Test\n",
    " "
   ]
  },
  {
   "cell_type": "markdown",
   "metadata": {},
   "source": [
    "H0 is the hypothesis that there is no differnece between result of a match for a team if that team is on home or away side.\n",
    "H1 is the hypothesis that there is differnece in a team's performance when that is on home or away side.\n",
    "Rejecting threshold for doing this test is supposed to be 0.05.\n",
    "Selected teams for analysis are as follow: {Manchester United, Watford, Liverpool, Crystal Palace, Chelsea}\n"
   ]
  },
  {
   "cell_type": "markdown",
   "metadata": {},
   "source": [
    "###### Result"
   ]
  },
  {
   "cell_type": "markdown",
   "metadata": {},
   "source": [
    " As obtained P-value (0.06) is greater than 0.05, so we can not reject H0 . so by this observations we can say H0 is True."
   ]
  },
  {
   "cell_type": "markdown",
   "metadata": {},
   "source": [
    "## [RQ3] Which teams have the youngest coaches? "
   ]
  },
  {
   "cell_type": "markdown",
   "metadata": {},
   "source": [
    "The point of this exercise is to show which teams, in this case the ones in the premier league, have the youngest coaches.\n",
    "\n",
    "Then we have to rank them based on this. For the second part, it's showing the age distribution.\n",
    "This function has been made to create a dictionary where the team is the key, and the birthdate of the youngest coach is the value. "
   ]
  },
  {
   "cell_type": "code",
   "execution_count": 46,
   "metadata": {},
   "outputs": [],
   "source": [
    "def coaches_dictionary(coaches):\n",
    "    coach  = {}\n",
    "    \n",
    "    # We iterate over the coaches dataframe\n",
    "    for i in range(len(coaches)):\n",
    "        key = coaches['currentTeamId'][i] # We get the key for the dictionary\n",
    "        if key != 0: # Side note: since more coaches in the df have the same team id = 0\n",
    "                     # we did not make assumptions on which team they belonged.\n",
    "            new_birth_date = coaches['birthDate'][i] # Get the birthdate in YYYY-mm-dd format\n",
    "            if key not in coach.keys(): # if the team is not registered in the dictionary\n",
    "                coach[key] = new_birth_date # add the key and put the first found birthdate\n",
    "            else:\n",
    "                #`Otherwise compare the newly found birthdate with the one already 'registered'\n",
    "                found_birth_date = coach[key]            \n",
    "                new_date = time.strptime(new_birth_date, \"%Y-%m-%d\")\n",
    "                found_date = time.strptime(found_birth_date, \"%Y-%m-%d\")\n",
    "                \n",
    "                if new_date < found_date: # Eventually, if the newly found is more recent, delete the old one and put the new one\n",
    "                    coach[key] = new_birth_date\n",
    "    # Side note: A dictionary was used for easy and fast access to a value by id\n",
    "    return coach"
   ]
  },
  {
   "cell_type": "markdown",
   "metadata": {},
   "source": [
    "This one is basically a support function, so we get easily the official team name with the relative team id."
   ]
  },
  {
   "cell_type": "code",
   "execution_count": 47,
   "metadata": {},
   "outputs": [],
   "source": [
    "def team_id_name_list(df):\n",
    "    \n",
    "    team_names = list()\n",
    "    \n",
    "    for i in range(len(df)): # Iterate over the dataframe\n",
    "        \n",
    "        # Get team data and add it to the list\n",
    "        t_official_name = str(df['officialName'][i])\n",
    "        t_id = int(df['wyId'][i])\n",
    "                \n",
    "        team_names.append([t_id, t_official_name])\n",
    "        \n",
    "    return team_names"
   ]
  },
  {
   "cell_type": "markdown",
   "metadata": {},
   "source": [
    "Another support function. It's supposed to take the dictionary of {team id: youngest coach birthdate} and perform a 'join' on the team id, so we get the team name and the youngest coach's age in the same data structure for easy reading when data is printed."
   ]
  },
  {
   "cell_type": "code",
   "execution_count": 48,
   "metadata": {},
   "outputs": [],
   "source": [
    "def team_birth_list(d,lst):\n",
    "    team_birth = []\n",
    "    for key in d.keys():\n",
    "        for item in lst:\n",
    "            if key == item[0]:\n",
    "                team_name = item[1] \n",
    "                age = get_age(d[key])\n",
    "                team_birth.append([team_name,age])\n",
    "    return team_birth"
   ]
  },
  {
   "cell_type": "markdown",
   "metadata": {},
   "source": [
    "Support function to easily calculate the age given a birthdate formatted as a string like YYYY-mm-dd."
   ]
  },
  {
   "cell_type": "code",
   "execution_count": 49,
   "metadata": {},
   "outputs": [],
   "source": [
    "def get_age(birthdate):\n",
    "    new_date = birthdate.split('-')    \n",
    "    new_date = list(map(int, new_date))\n",
    "    born = date(new_date[0], new_date[1], new_date[2])\n",
    "    today = date.today() \n",
    "    days_in_year = 365.2425 # Must keep count of the extra day in a year\n",
    "    age = int((today - born).days / days_in_year)\n",
    "    \n",
    "    return age"
   ]
  },
  {
   "cell_type": "code",
   "execution_count": 54,
   "metadata": {},
   "outputs": [
    {
     "name": "stdout",
     "output_type": "stream",
     "text": [
      "(1) - AFC Bournemouth | Age 41 | [Has the youngest coach]\n",
      "(2) - Everton FC | Age 42 \n",
      "(3) - Arsenal FC | Age 47 \n",
      "(4) - Tottenham Hotspur FC | Age 47 \n",
      "(5) - Burnley FC | Age 48 \n",
      "(6) - Manchester City FC | Age 48 \n",
      "(7) - Watford FC | Age 49 \n",
      "(8) - Southampton FC | Age 52 \n",
      "(9) - Liverpool FC | Age 52 \n",
      "(10) - Newcastle United FC | Age 59 \n"
     ]
    }
   ],
   "source": [
    "# Load the needed datasets\n",
    "coaches = pd.read_json(\"./DS/coaches.json\")\n",
    "teams = pd.read_json(\"./DS/teams.json\")\n",
    "matches = pd.read_json('./DS/matches_England.json')\n",
    "# Here we are filtering out the teams that are not from England and \n",
    "# of course, the national teams which do not play in the Premier League.\n",
    "teams = teams[teams.area.apply(lambda x : x['name'] == 'England')]\n",
    "teams = teams[teams.type == 'club']\n",
    "teams = teams.reset_index(drop=True) \n",
    "# resetting the index to avoid gaps while iterating over dataset\n",
    "\n",
    "\n",
    "d = coaches_dictionary(coaches)\n",
    "t_id_names = team_id_name_list(teams)\n",
    "team_birth = team_birth_list(d, t_id_names)    \n",
    "# Now we have a list like [[team_name, youngest coach birthdate]]\n",
    "\n",
    "team_birth.sort(key=lambda r : r[1]) \n",
    "# Sort by age, ascending order\n",
    "\n",
    "\n",
    "# Printing the ranking of the youngest coaches\n",
    "for i in range(len(team_birth[:10])):\n",
    "    add_str = ''\n",
    "\n",
    "    if i == 0:\n",
    "        add_str = '| [Has the youngest coach]'\n",
    "    else:\n",
    "        add_str = ''\n",
    "\n",
    "    print('(%d) - %s | Age %d %s' % (i+1, team_birth[i][0], team_birth[i][1], add_str))\n",
    "# Plotting age distribution"
   ]
  },
  {
   "cell_type": "markdown",
   "metadata": {},
   "source": [
    "Since before we eliminated an older coach if we found a younger one, we need to retrieve again the data this considering all the coaches that participated in the premier league. \n",
    "This time though, just to be sure we are getting all of them, we consider the matches of the premier league: each match has the coaches id that participated."
   ]
  },
  {
   "cell_type": "code",
   "execution_count": 55,
   "metadata": {},
   "outputs": [
    {
     "data": {
      "text/plain": [
       "[Text(0, 0, 'Premier League')]"
      ]
     },
     "execution_count": 55,
     "metadata": {},
     "output_type": "execute_result"
    },
    {
     "data": {
      "image/png": "[encoded data removed]",
      "text/plain": [
       "<Figure size 648x432 with 1 Axes>"
      ]
     },
     "metadata": {},
     "output_type": "display_data"
    }
   ],
   "source": [
    "# First we get the coach ids\n",
    "coaches_ids = []\n",
    "for i in range(len(matches)):\n",
    "    teams_data = matches['teamsData'][i]\n",
    "    coach_id = [teams_data[key]['coachId'] for key in teams_data.keys()]\n",
    "    coaches_ids.extend(coach_id)\n",
    "\n",
    "# Then we get the birthdates from the coaches dataset where wyId == coach_id\n",
    "coaches_ids = list(dict.fromkeys(coaches_ids))\n",
    "age_distribution = []\n",
    "for i in range(len(coaches)):\n",
    "    coach_id = coaches['wyId'][i]\n",
    "    if coach_id in coaches_ids:\n",
    "        coach_birthday = coaches['birthDate'][i]\n",
    "        age = get_age(coach_birthday)\n",
    "        age_distribution.append(age)\n",
    "\n",
    "''' Here we are plotting the distribution using a boxplot '''\n",
    "fig = plt.figure(1, figsize=(9, 6))\n",
    "ax = fig.add_subplot(111)\n",
    "sns.set_style(\"darkgrid\")\n",
    "ax.set_xlabel('Team leagues', fontweight='bold')\n",
    "ax.set_ylabel('Age', fontweight='bold')\n",
    "fig.suptitle('Coaches age distribution', fontsize=14, fontweight='bold')\n",
    "\n",
    "b = sns.boxplot([age_distribution], ax=ax, orient='v', width=0.2)\n",
    "b.set_xticklabels(['Premier League'])"
   ]
  },
  {
   "cell_type": "markdown",
   "metadata": {},
   "source": [
    "## [RQ4] Find the top 10 players with the highest ratio between completed passes and attempted passes."
   ]
  },
  {
   "cell_type": "code",
   "execution_count": 56,
   "metadata": {},
   "outputs": [],
   "source": [
    "# First load the relevant datasets\n",
    "event_ds = pd.read_json('./DS/events_England.json')\n",
    "player_ds = pd.read_json('./DS/players.json')"
   ]
  },
  {
   "cell_type": "markdown",
   "metadata": {},
   "source": [
    "The threshold is used to make sure that we have avoided meaningless results!\n",
    "For making the threshold we calculated the mean of all passes that all players have made and just consider the players that have more passes than that number. so we need the number of passes that each player has made, by using group by over playerId and knowing that the passes have the subIds between 80-86, we count the number of passes. but not all these passes were successful! we need to detach the ones that were successful.\n",
    "Then at the end we calculated the ratio of successful passes that player had. at the end we sorted and listed the 10 players from premier league and printed them out with their short names and ratios."
   ]
  },
  {
   "cell_type": "code",
   "execution_count": 58,
   "metadata": {},
   "outputs": [
    {
     "name": "stdout",
     "output_type": "stream",
     "text": [
      "(1) - ['J. Stones', 0.9759136212624585]\n",
      "(2) - ['F. Delph', 0.9450757575757576]\n",
      "(3) - ['V. Kompany', 0.9432063263838965]\n",
      "(4) - ['A. Christensen', 0.9402173913043478]\n",
      "(5) - ['P. Jones', 0.9385052034058656]\n",
      "(6) - ['N. Otamendi', 0.9375843454790823]\n",
      "(7) - ['Mohamed Elneny', 0.9364508393285371]\n",
      "(8) - ['\\\\u0130. G\\\\u00fcndo\\\\u011fan', 0.9355555555555556]\n",
      "(9) - ['V. Lindel\\\\u00f6f', 0.9355281207133059]\n",
      "(10) - ['M. Demb\\\\u00e9l\\\\u00e9', 0.9326007326007326]\n"
     ]
    }
   ],
   "source": [
    "# each player has howmany passes made and calculate the mean for all players\n",
    "allkind_passes = event_ds[event_ds[\"subEventId\"].isin([i for i in range(80,87)])].groupby([\"playerId\"]).count()\n",
    "allkind_passes.reset_index(drop=False,inplace=True)\n",
    "threshold = allkind_passes[\"eventId\"].mean() # threshold\n",
    "\n",
    "# creating a dictionary to contain, for each player (the playerId is the key), the successful passes.\n",
    "successful_player = {} \n",
    "for i in range(len(event_ds)): # check for all kind of passes which has been successful\n",
    "    event_type = event_ds['subEventId'][i]  \n",
    "\n",
    "    if event_type in range(80,87): # the range of the subId of all passes\n",
    "        tags = event_ds['tags'][i] # the column that contains tag 1801 \n",
    "        tag_values = [t['id'] for t in tags]\n",
    "        player_id = event_ds['playerId'][i] # check for each player\n",
    "\n",
    "        if player_id not in successful_player.keys():\n",
    "            successful_player[player_id] = [0, 0]\n",
    "\n",
    "        if 1801 in tag_values: # a completed pass has tag 1801\n",
    "            # Successful\n",
    "            successful_player[player_id][0] += 1\n",
    "        else:\n",
    "            # failed\n",
    "            successful_player[player_id][1] += 1\n",
    "\n",
    "\n",
    "# calculation of the ratio and appending it to a list with players shortnames and wyId\n",
    "Player_list = []\n",
    "for i in range(len(player_ds)):\n",
    "    player_id = player_ds['wyId'][i] # each playerId\n",
    "    short_name = player_ds['shortName'][i] # the player short name\n",
    "\n",
    "    player_data = allkind_passes.loc[allkind_passes.playerId == player_id , \"tags\"]  \n",
    "    if player_data is not None and len(player_data) > 0:      \n",
    "        number_passes = player_data.tolist()[0]\n",
    "\n",
    "        #using the threshold\n",
    "        if number_passes >= threshold: \n",
    "            if player_id in successful_player.keys():\n",
    "                success = successful_player[player_id][0]\n",
    "                fail = successful_player[player_id][1]\n",
    "\n",
    "                ratio = 0 \n",
    "                if fail != 0: \n",
    "                    ratio = success / (success + fail)\n",
    "                Player_list.append([short_name, ratio])\n",
    "                \n",
    "#reversing the list and sorting it (Go from ascending order from descending order)to find the 10 first players with high ratio     \n",
    "Player_list.sort(key=operator.itemgetter(1))\n",
    "Player_list.reverse()\n",
    "\n",
    "# printing the list with numbers from 1 to 10\n",
    "for i in range(len(Player_list[:10])):\n",
    "    print('(%d) - %s' % (i+1, Player_list[i]))"
   ]
  },
  {
   "cell_type": "markdown",
   "metadata": {},
   "source": [
    "## [RQ5] Does being a tall player mean winning more air duels?"
   ]
  },
  {
   "cell_type": "markdown",
   "metadata": {},
   "source": [
    "Here we are trying to see if there's a correlation between the height of a player and the number of air duels won."
   ]
  },
  {
   "cell_type": "code",
   "execution_count": 60,
   "metadata": {},
   "outputs": [
    {
     "data": {
      "image/png": "[encoded data removed]",
      "text/plain": [
       "<Figure size 576x360 with 1 Axes>"
      ]
     },
     "metadata": {},
     "output_type": "display_data"
    }
   ],
   "source": [
    "# Loading the events dataset for the premier league, here are stored events \n",
    "# such as air duels and their outcome (won, lost, ...)\n",
    "event_ds = pd.read_json('./DS/events_England.json')\n",
    "player_performance = {}\n",
    "\n",
    "for i in range(len(event_ds)):\n",
    "    event_type = event_ds['subEventName'][i] # First we get the specific name of the event\n",
    "\n",
    "    if event_type == 'Air duel': # We are only interested if the event is an air duel\n",
    "        tags = event_ds['tags'][i] # The tags field contains information about the outcome\n",
    "        tag_values = [t['id'] for t in tags] # but first we have to extract the individual values\n",
    "        player_id = event_ds['playerId'][i]\n",
    "        # The player id will be used as the key for the dictionary\n",
    "        # It will be used later to join, on the player id, to make the height:ratio list\n",
    "        if player_id not in player_performance.keys():\n",
    "            # the performance array for a player has arbitrary indexes:\n",
    "            # [0] is for won air duels, [1] is for lost ones \n",
    "            player_performance[player_id] = [0, 0] \n",
    "\n",
    "        # The 1801 and 703 tag values signal a successful outcome for the event\n",
    "        if 1801 in tag_values and 703 in tag_values:\n",
    "            # Successful\n",
    "            player_performance[player_id][0] += 1\n",
    "        else:\n",
    "            # Attempted and failed\n",
    "            player_performance[player_id][1] += 1\n",
    "\n",
    "\n",
    "# Build height-ratio table\n",
    "player_ds = pd.read_json('./DS/players.json')\n",
    "plot_list = []\n",
    "\n",
    "for i in range(len(player_ds)):\n",
    "    player_id = player_ds['wyId'][i] # Get the player id\n",
    "    height = player_ds['height'][i] # Get the player's height\n",
    "\n",
    "    if player_id in player_performance.keys(): # If we have a player id, then there should be the performance array\n",
    "\n",
    "        # Calculate the ratio\n",
    "        successful = player_performance[player_id][0]\n",
    "        failed = player_performance[player_id][1]    \n",
    "        ratio = 0 # We suppose the ratio is 0 \n",
    "        if failed != 0: # Must avoid division by 0\n",
    "            ratio = successful / (successful + failed)\n",
    "\n",
    "        if ratio != 0: # Here is just a threshold, if this line gets deleted even the player with no successful \n",
    "                       # air duels will be plotted. \n",
    "            plot_list.append([height, ratio])\n",
    "\n",
    "# Plotting\n",
    "plot_list.sort(key=lambda x : x[0]) # We want the players data sorted by height, ascending order\n",
    "height_list = [p[0] for p in plot_list] # List remains ordered, no need to worry if we split 'plot_list'\n",
    "ratio_list = [p[1] for p in plot_list]\n",
    "\n",
    "plt.figure(figsize=(8,5))\n",
    "plt.xlabel = 'height'\n",
    "plt.ylabel = 's/f ratio'\n",
    "colors = ['blue', 'yellow', 'orange', 'red', 'green', 'purple', 'grey', 'black', 'pink']\n",
    "\n",
    "height_interval = 5 # This is an arbitrary value to split the height values in 5cm increments\n",
    "\n",
    "# Rounding the min_height to the nearest lower multiple of 10: doing so allows for a nice visualization\n",
    "min_height = min(height_list) - (min(height_list)%10) \n",
    "max_height = max(height_list) + (10 - max(height_list)%10) # Round to the nearest greater multiple of 10\n",
    "plt.xticks(range(min_height, max_height+1, 5)) # For visibility, add ticks in 5cm increments between min height and max height\n",
    "\n",
    "for i in range(len(plot_list)):\n",
    "    r = plot_list[i]\n",
    "\n",
    "    # The way the colors is assigned seems complicated because not only we want a color from the colors list,\n",
    "    # but if the colors are not enough (too many 5cm increments) they will start being assigned from the first one (rotation)\n",
    "    # Also we don't want 160 to be an index, so we normalize it to be in the [0, len of color list) range.\n",
    "    plt.scatter(r[0], r[1], lw=0.1, c = colors[int((r[0] - min_height)//height_interval % len(colors))])\n",
    "\n",
    "# We want the axis to start 5cm before the min height value rounded to the lowest multiple 10, \n",
    "# and the other max axis to be 5cm after the nearest greater multiple of 10\n",
    "plt.axis([min_height-5, max_height+5, 0, 1])\n",
    "\n",
    "plt.show()"
   ]
  },
  {
   "cell_type": "markdown",
   "metadata": {},
   "source": [
    "It really looks like there is a positive correlation, between the height and the success ratio in air duels! "
   ]
  },
  {
   "cell_type": "markdown",
   "metadata": {},
   "source": [
    "## [RQ6] Free your mind!"
   ]
  },
  {
   "cell_type": "markdown",
   "metadata": {},
   "source": [
    "The goal of this exercise is to show a new interesting result about the dataset that we found. it was interesting for us to analize which nationalities have better players!(to be more specific, players from which countries have higher ratio of successful passes. we had the ratio from RQ4 and now we had to use the birth Area column in player_ds which was a dictionary and use the first value of it(the country of birth's name)).\n",
    "At the end we made a plot which shows the name of the cpuntries and the number of players with high ratio."
   ]
  },
  {
   "cell_type": "code",
   "execution_count": 62,
   "metadata": {},
   "outputs": [
    {
     "name": "stdout",
     "output_type": "stream",
     "text": [
      "(1) - ['J. Stones', 0.9759136212624585, 'England']\n",
      "(2) - ['F. Delph', 0.9450757575757576, 'England']\n",
      "(3) - ['V. Kompany', 0.9432063263838965, 'Belgium']\n",
      "(4) - ['A. Christensen', 0.9402173913043478, 'Denmark']\n",
      "(5) - ['P. Jones', 0.9385052034058656, 'England']\n",
      "(6) - ['N. Otamendi', 0.9375843454790823, 'Argentina']\n",
      "(7) - ['Mohamed Elneny', 0.9364508393285371, 'Egypt']\n",
      "(8) - ['\\\\u0130. G\\\\u00fcndo\\\\u011fan', 0.9355555555555556, 'Germany']\n",
      "(9) - ['V. Lindel\\\\u00f6f', 0.9355281207133059, 'Sweden']\n",
      "(10) - ['M. Demb\\\\u00e9l\\\\u00e9', 0.9326007326007326, 'Belgium']\n",
      "(11) - ['Ederson', 0.9324487334137516, 'Brazil']\n",
      "(12) - ['R. Klavan', 0.9309734513274336, 'Estonia']\n",
      "(13) - ['O. Zinchenko', 0.9309309309309309, 'Ukraine']\n",
      "(14) - ['A. Laporte', 0.9255455712451861, 'France']\n",
      "(15) - ['Fernandinho', 0.9180154820548909, 'Brazil']\n",
      "(16) - ['D. Lovren', 0.9163253364540667, 'Croatia']\n",
      "(17) - ['J. Matip', 0.9162967660114141, 'Germany']\n",
      "(18) - ['L. Koscielny', 0.9130173965206959, 'France']\n",
      "(19) - ['C. Smalling', 0.911297852474323, 'England']\n",
      "(20) - ['D. S\\\\u00e1nchez', 0.9112590127565169, 'Colombia']\n",
      "(21) - ['G. Wijnaldum', 0.9093877551020408, 'Netherlands']\n",
      "(22) - ['N. Kant\\\\u00e9', 0.909047619047619, 'France']\n",
      "(23) - ['A. R\\\\u00fcdiger', 0.9084766584766585, 'Germany']\n",
      "(24) - ['V. van Dijk', 0.9064220183486239, 'Netherlands']\n",
      "(25) - ['G. Cahill', 0.9057507987220448, 'England']\n",
      "(26) - ['Nacho Monreal', 0.9020070838252656, 'Spain']\n",
      "(27) - ['H. Lloris', 0.898159509202454, 'France']\n",
      "(28) - ['Danilo', 0.8959641255605382, 'Brazil']\n",
      "(29) - ['David Silva', 0.8958858102434929, 'Spain']\n",
      "(30) - ['Sung-Yeung Ki', 0.8929471032745592, 'Korea Republic']\n",
      "(31) - ['J. Vertonghen', 0.8915611814345992, 'Belgium']\n",
      "(32) - ['P. H\\\\u00f8jbjerg', 0.8909774436090225, 'Denmark']\n",
      "(33) - ['N. Mati\\\\u0107', 0.8888436482084691, 'Serbia']\n",
      "(34) - ['J. Wilshere', 0.8876117496807152, 'England']\n",
      "(35) - ['E. Dier', 0.8863530507685142, 'England']\n",
      "(36) - ['G. Xhaka', 0.8856758574310692, 'Switzerland']\n",
      "(37) - ['K. Walker', 0.8855785837651122, 'England']\n",
      "(38) - ['Ander Herrera', 0.8837890625, 'Spain']\n",
      "(39) - ['T. Alderweireld', 0.8797327394209354, 'Belgium']\n",
      "(40) - ['S. Mustafi', 0.8792270531400966, 'Germany']\n",
      "(41) - ['T. Bakayoko', 0.8788167938931297, 'France']\n",
      "(42) - ['E. Can', 0.8782784129119031, 'Germany']\n",
      "(43) - ['J. Hogg', 0.8781038374717833, 'England']\n",
      "(44) - ['M. Lemina', 0.8766700924974307, 'Gabon']\n",
      "(45) - ['P. \\\\u010cech', 0.8766328011611031, 'Czech Republic']\n",
      "(46) - ['A. Surman', 0.8763537906137184, 'South Africa']\n",
      "(47) - ['T. Courtois', 0.8743781094527363, 'Belgium']\n",
      "(48) - ['M. \\\\u00d6zil', 0.8737430167597765, 'Germany']\n",
      "(49) - ['J. Lingard', 0.8724100327153762, 'England']\n",
      "(50) - ['M. Lanzini', 0.8718166383701188, 'Argentina']\n",
      "(51) - ['M. Sakho', 0.8702928870292888, 'France']\n",
      "(52) - ['Azpilicueta', 0.8695171396977516, 'Spain']\n",
      "(53) - ['N. Ak\\\\u00e9', 0.8680961663417803, 'Netherlands']\n",
      "(54) - ['J. Henderson', 0.8679055750878956, 'England']\n",
      "(55) - ['I. Gueye', 0.8676277850589778, 'Senegal']\n",
      "(56) - ['A. Iwobi', 0.8675438596491228, 'Nigeria']\n",
      "(57) - ['P. Pogba', 0.8657435279951836, 'France']\n",
      "(58) - ['D. Stephens', 0.8647230320699708, 'England']\n",
      "(59) - ['Juan Mata', 0.8633744855967078, 'Spain']\n",
      "(60) - ['J. Gomez', 0.8629518072289156, 'England']\n",
      "(61) - ['M. Schneiderlin', 0.8621973929236499, 'France']\n",
      "(62) - ['A. Doucour\\\\u00e9', 0.8617998163452709, 'France']\n",
      "(63) - ['Oriol Romeu', 0.8615384615384616, 'Spain']\n",
      "(64) - ['M. Yoshida', 0.8610301263362488, 'Japan']\n",
      "(65) - ['J. Milner', 0.8594704684317719, 'England']\n",
      "(66) - ['R. Pereyra', 0.8592375366568915, 'Argentina']\n",
      "(67) - ['E. Capoue', 0.8588661037394452, 'France']\n",
      "(68) - ['M. Noble', 0.8578313253012049, 'England']\n",
      "(69) - ['W. Reid', 0.8578052550231839, 'New Zealand']\n",
      "(70) - ['R. Sterling', 0.8551959114139693, 'Jamaica']\n",
      "(71) - ['C. Schindler', 0.8548872180451128, 'Germany']\n",
      "(72) - ['J. Evans', 0.854006586169045, 'Northern Ireland']\n",
      "(73) - ['W. Morgan', 0.8538812785388128, 'England']\n",
      "(74) - ['S. Defour', 0.8537782139352306, 'Belgium']\n",
      "(75) - ['F. Fern\\\\u00e1ndez', 0.8534704370179949, 'Argentina']\n",
      "(76) - ['T. Cleverley', 0.8529139685476411, 'England']\n",
      "(77) - ['A. Mawson', 0.8514251061249242, 'England']\n",
      "(78) - ['R. Loftus-Cheek', 0.8513119533527697, 'England']\n",
      "(79) - ['M. Diam\\\\u00e9', 0.8507265521796565, 'France']\n",
      "(80) - ['Bernardo Silva', 0.850418410041841, 'Portugal']\n",
      "(81) - ['E. Hazard', 0.8500376789751318, 'Belgium']\n",
      "(82) - ['A. Ramsey', 0.8493827160493828, 'Wales']\n",
      "(83) - ['A. Valencia', 0.8490566037735849, 'Ecuador']\n",
      "(84) - ['M. Sissoko', 0.8485915492957746, 'France']\n",
      "(85) - ['Beller\\\\u00edn', 0.8481619605753863, 'Spain']\n",
      "(86) - ['F\\\\u00e0bregas', 0.8473320158102767, 'Spain']\n",
      "(87) - ['S. Clucas', 0.8466579292267365, 'England']\n",
      "(88) - ['J. Cork', 0.8466057441253264, 'England']\n",
      "(89) - ['B. Mee', 0.8451801363193768, 'England']\n",
      "(90) - ['Vicente Iborra', 0.8451219512195122, 'Spain']\n",
      "(91) - ['J. Lascelles', 0.8433303491495077, 'England']\n",
      "(92) - ['S. Davis', 0.8424124513618677, 'Northern Ireland']\n",
      "(93) - ['A. Robertson', 0.8419290020093771, 'Scotland']\n",
      "(94) - ['A. Williams', 0.841225626740947, 'England']\n",
      "(95) - ['Alberto Moreno', 0.8410513141426783, 'Spain']\n",
      "(96) - ['T. Carroll', 0.840778097982709, 'England']\n",
      "(97) - ['J. Tomkins', 0.8400954653937948, 'England']\n",
      "(98) - ['Y. Cabaye', 0.84, 'France']\n",
      "(99) - ['W. Hoedt', 0.8389423076923077, 'Netherlands']\n",
      "(100) - ['Kiko Femen\\\\u00eda', 0.83729216152019, 'Spain']\n",
      "(101) - ['Pedro Obiang', 0.8358620689655173, 'Spain']\n",
      "(102) - ['L. Milivojevi\\\\u0107', 0.8357921744708147, 'Serbia']\n",
      "(103) - ['F. Lejeune', 0.8354935194416749, 'France']\n",
      "(104) - ['J. McArthur', 0.8352941176470589, 'Scotland']\n",
      "(105) - ['M. Keane', 0.8348623853211009, 'England']\n",
      "(106) - ['A. Ogbonna', 0.8343313373253493, 'Italy']\n",
      "(107) - ['J. Ayew', 0.8327044025157233, 'France']\n",
      "(108) - ['S. Kola\\\\u0161inac', 0.8321342925659473, 'Germany']\n",
      "(109) - ['L. San\\\\u00e9', 0.8313253012048193, 'Germany']\n",
      "(110) - ['J. Allen', 0.8302611367127496, 'Wales']\n",
      "(111) - ['A. Smith', 0.8293478260869566, 'England']\n",
      "(112) - ['H. Maguire', 0.8292682926829268, 'England']\n",
      "(113) - ['J. Hendrick', 0.8286082474226805, 'Ireland Republic']\n",
      "(114) - ['L. Cook', 0.8285472972972973, 'England']\n",
      "(115) - ['Son Heung-Min', 0.8272921108742004, 'Korea Republic']\n",
      "(116) - ['K. Zouma', 0.826625386996904, 'France']\n",
      "(117) - ['S. Duffy', 0.826530612244898, 'Northern Ireland']\n",
      "(118) - ['L. Dunk', 0.8264230498945889, 'England']\n",
      "(119) - ['Bruno Saltor', 0.8253012048192772, 'Spain']\n",
      "(120) - ['A. Mariappa', 0.8233404710920771, 'England']\n",
      "(121) - ['S. Man\\\\u00e9', 0.8220793140407289, 'Senegal']\n",
      "(122) - ['C. Kouyat\\\\u00e9', 0.8212226066897347, 'Senegal']\n",
      "(123) - ['C. Eriksen', 0.8210382513661202, 'Denmark']\n",
      "(124) - ['M. Ryan', 0.8201550387596899, 'Australia']\n",
      "(125) - ['J. Stephens', 0.8188976377952756, 'England']\n",
      "(126) - ['Mikel Merino', 0.8172043010752689, 'Spain']\n",
      "(127) - ['K. De Bruyne', 0.8169910179640718, 'Belgium']\n",
      "(128) - ['D. Fletcher', 0.8169154228855722, 'Scotland']\n",
      "(129) - ['G. Krychowiak', 0.8160621761658031, 'Poland']\n",
      "(130) - ['H. Mkhitaryan', 0.8138572905894519, 'Armenia']\n",
      "(131) - ['M. J\\\\u00f8rgensen', 0.8135368281353683, 'Denmark']\n",
      "(132) - ['J. Livermore', 0.8134328358208955, 'England']\n",
      "(133) - ['A. Mooy', 0.8118918918918919, 'Australia']\n",
      "(134) - ['W. Ndidi', 0.8117797695262484, 'Nigeria']\n",
      "(135) - ['P. Jagielka', 0.8115631691648822, 'England']\n",
      "(136) - ['Pedro', 0.8106508875739645, 'Spain']\n",
      "(137) - ['A. Martial', 0.8090787716955942, 'France']\n",
      "(138) - ['S. Cook', 0.8090249798549557, 'England']\n",
      "(139) - ['D. Gosling', 0.8089887640449438, 'England']\n",
      "(140) - ['T. Ince', 0.808446455505279, 'England']\n",
      "(141) - ['J. Ward-Prowse', 0.8083109919571045, 'England']\n",
      "(142) - ['C. Kabasele', 0.8076923076923077, 'Congo DR']\n",
      "(143) - ['D. Pr\\\\u00f6pper', 0.8076062639821029, 'Netherlands']\n",
      "(144) - ['A. Knockaert', 0.8075396825396826, 'France']\n",
      "(145) - ['W. Rooney', 0.8071428571428572, 'England']\n",
      "(146) - ['M. van der Hoorn', 0.8069963811821471, 'Netherlands']\n",
      "(147) - ['Willian', 0.8056768558951966, 'Brazil']\n",
      "(148) - ['\\\\u0141. Fabia\\\\u0144ski', 0.8054363376251789, 'Poland']\n",
      "(149) - ['A. Oxlade-Chamberlain', 0.8037825059101655, 'England']\n",
      "(150) - ['Philippe Coutinho', 0.8023774145616642, 'Brazil']\n",
      "(151) - ['D. Alli', 0.8015202702702703, 'England']\n",
      "(152) - ['L. Baines', 0.8005181347150259, 'England']\n",
      "(153) - ['G. Barry', 0.8002283105022832, 'England']\n",
      "(154) - ['T. Davies', 0.8, 'England']\n",
      "(155) - ['K. Trippier', 0.7993897787948131, 'England']\n",
      "(156) - ['R. Mahrez', 0.796875, 'France']\n",
      "(157) - ['Ahmed Hegazy', 0.7960992907801419, 'Egypt']\n",
      "(158) - ['J. L\\\\u00f6ssl', 0.7959183673469388, 'Denmark']\n",
      "(159) - ['J. Tarkowski', 0.7937743190661478, 'England']\n",
      "(160) - ['S. Aurier', 0.7928921568627451, \"C\\\\u00f4te d'Ivoire\"]\n",
      "(161) - ['Cuco Martina', 0.7925211097708083, 'Netherlands']\n",
      "(162) - ['R. Bertrand', 0.7923533289386948, 'England']\n",
      "(163) - ['C. Clark', 0.7919161676646707, 'England']\n",
      "(164) - ['A. Lacazette', 0.791476407914764, 'France']\n",
      "(165) - ['A. Young', 0.7911764705882353, 'England']\n",
      "(166) - ['Marcos Alonso', 0.7909356725146199, 'Spain']\n",
      "(167) - ['J. Ibe', 0.7907303370786517, 'England']\n",
      "(168) - ['B. Davies', 0.7902149740548554, 'Wales']\n",
      "(169) - ['C. Daniels', 0.788741302972802, 'England']\n",
      "(170) - ['K. Naughton', 0.7883792048929663, 'England']\n",
      "(171) - ['S. Francis', 0.7843648208469055, 'England']\n",
      "(172) - ['D. Simpson', 0.7818383167220376, 'England']\n",
      "(173) - ['Mohamed Salah', 0.7814207650273224, 'Egypt']\n",
      "(174) - ['A. Carrillo', 0.7811634349030471, 'Peru']\n",
      "(175) - ['X. Shaqiri', 0.7790368271954674, 'Kosovo']\n",
      "(176) - ['J. Schlupp', 0.7777777777777778, 'Germany']\n",
      "(177) - ['A. Cresswell', 0.7770370370370371, 'England']\n",
      "(178) - ['J. Shelvey', 0.7750591949486977, 'England']\n",
      "(179) - ['R. Fraser', 0.7735191637630662, 'Scotland']\n",
      "(180) - ['D. Janmaat', 0.7700729927007299, 'Netherlands']\n",
      "(181) - ['T. Alexander-Arnold', 0.7700186219739292, 'England']\n",
      "(182) - ['K. Gibbs', 0.7695202257761053, 'England']\n",
      "(183) - ['C. Brunt', 0.7687927107061503, 'Northern Ireland']\n",
      "(184) - ['V. Moses', 0.7678571428571429, 'Nigeria']\n",
      "(185) - ['G. Sigur\\\\u00f0sson', 0.7678062678062678, 'Iceland']\n",
      "(186) - ['A. Nyom', 0.767189384800965, 'France']\n",
      "(187) - ['N. Redmond', 0.7615571776155717, 'England']\n",
      "(188) - ['P. van Aanholt', 0.7592997811816192, 'Netherlands']\n",
      "(189) - ['A. S\\\\u00e1nchez', 0.7588152327221439, 'Chile']\n",
      "(190) - ['A. Townsend', 0.7582625118035883, 'England']\n",
      "(191) - ['D. Yedlin', 0.7554502369668247, 'United States']\n",
      "(192) - ['Roberto Firmino', 0.7547511312217194, 'Brazil']\n",
      "(193) - ['P. Gro\\\\u00df', 0.7538712306438468, 'Germany']\n",
      "(194) - ['R. van La Parra', 0.7536231884057971, 'Netherlands']\n",
      "(195) - ['A. Masuaku', 0.753004005340454, 'France']\n",
      "(196) - ['J. Pickford', 0.752895752895753, 'England']\n",
      "(197) - ['P. Zabaleta', 0.7506234413965087, 'Argentina']\n",
      "(198) - ['Ayoze P\\\\u00e9rez', 0.7496296296296296, 'Spain']\n",
      "(199) - ['B. Chilwell', 0.7467391304347826, 'England']\n",
      "(200) - ['C. Dawson', 0.7457817772778402, 'England']\n",
      "(201) - ['C. Fuchs', 0.7436182019977803, 'Austria']\n",
      "(202) - ['J. Butland', 0.7432432432432432, 'England']\n",
      "(203) - ['E. Pieters', 0.7406340057636888, 'Netherlands']\n",
      "(204) - ['S. March', 0.7402031930333817, 'England']\n",
      "(205) - ['D. Tadi\\\\u0107', 0.7399141630901288, 'Serbia']\n",
      "(206) - ['M. Olsson', 0.7391304347826086, 'Sweden']\n",
      "(207) - ['C\\\\u00e9dric Soares', 0.7351233671988389, 'Germany']\n",
      "(208) - ['M. Ritchie', 0.7341532639545885, 'England']\n",
      "(209) - ['G. Bong', 0.7325870646766169, 'Cameroon']\n",
      "(210) - ['J. Gu\\\\u00f0munds\\\\u00adson', 0.7321428571428571, 'Iceland']\n",
      "(211) - ['W. Zaha', 0.7285067873303167, \"C\\\\u00f4te d'Ivoire\"]\n",
      "(212) - ['T. Smith', 0.7269503546099291, 'England']\n",
      "(213) - ['J. Ward', 0.7241867043847242, 'England']\n",
      "(214) - ['S. Rond\\\\u00f3n', 0.7236255572065379, 'Venezuela']\n",
      "(215) - ['C. L\\\\u00f6we', 0.7235649546827795, 'Germany']\n",
      "(216) - ['J. Holebas', 0.7206931702344547, 'Germany']\n",
      "(217) - ['M. Arnautovi\\\\u0107', 0.7198838896952104, 'Austria']\n",
      "(218) - ['M. Lowton', 0.7170022371364653, 'England']\n",
      "(219) - ['S. Ward', 0.7037037037037037, 'Ireland Republic']\n",
      "(220) - ['Richarlison', 0.6955941255006676, 'Brazil']\n",
      "(221) - ['F. Hadergjonaj', 0.6824712643678161, 'Switzerland']\n",
      "(222) - ['M. Albrighton', 0.6585365853658537, 'England']\n"
     ]
    }
   ],
   "source": [
    "event_ds = pd.read_json('./DS/events_England.json')\n",
    "player_ds = pd.read_json('./DS/players.json')\n",
    "\n",
    "# each player has howmany passes made and calculate the mean for all players\n",
    "all_passes = event_ds[event_ds[\"subEventId\"].isin([i for i in range(80,87)])].groupby([\"playerId\"]).count()\n",
    "all_passes.reset_index(drop=False,inplace=True)\n",
    "threshold = all_passes[\"eventId\"].mean()\n",
    "\n",
    "# creating a dictionary to contain, for each player (the playerId is the key), the successful passes.\n",
    "passes_successful = {}\n",
    "for i in range(len(event_ds)): # check for all kind of passes which has been successful\n",
    "    event_type = event_ds['subEventId'][i]\n",
    "    if event_type in range(80,87): # the range of the subId of all passes\n",
    "        tags = event_ds['tags'][i] # the column that contains tag 1801 \n",
    "        tag_values = [t['id'] for t in tags]\n",
    "        player_id = event_ds['playerId'][i]\n",
    "\n",
    "        if player_id not in passes_successful.keys():\n",
    "            passes_successful[player_id] = [0, 0]\n",
    "\n",
    "        if 1801 in tag_values: # a completed pass has tag 1801\n",
    "            # Success\n",
    "            passes_successful[player_id][0] += 1\n",
    "        else:\n",
    "            # failure\n",
    "            passes_successful[player_id][1] += 1\n",
    "\n",
    "\n",
    "# calculation of the ratio and appending it to a list with players shortnames and wyId\n",
    "# adding the nationality of players to the list\n",
    "Player_list = []\n",
    "dic = dict(player_ds[\"birthArea\"]) # the column that has the players nationality\n",
    "for i in range(len(player_ds)):\n",
    "    player_id = player_ds['wyId'][i]\n",
    "    short_name = player_ds['shortName'][i] # players short names\n",
    "    try: # for avoidig errors we used try except\n",
    "        v = dic.get(i).get(\"name\")\n",
    "    except:\n",
    "        pass\n",
    "\n",
    "    # for having number of passes that each player had\n",
    "    player_data = all_passes.loc[all_passes.playerId == player_id , \"tags\"]\n",
    "    if player_data is not None and len(player_data) > 0:      \n",
    "        number_passes = player_data.tolist()[0]\n",
    "\n",
    "        #calculating the ratio\n",
    "        #using the threshold so if a player has less passes than the threshold we are not going to consider that player\n",
    "        if number_passes >= threshold: \n",
    "            if player_id in passes_successful.keys():\n",
    "                successful = passes_successful[player_id][0]\n",
    "                failed = passes_successful[player_id][1]\n",
    "\n",
    "                ratio = 0 \n",
    "                if failed != 0:\n",
    "                    ratio = successful / (successful + failed)\n",
    "                Player_list.append([short_name, ratio, v])\n",
    "\n",
    "#reversing the list and sorting it (Go from ascending order from descending order)to find the 10 first players with high ratio     \n",
    "Player_list.sort(key=operator.itemgetter(1))\n",
    "Player_list.reverse()\n",
    "\n",
    "#printing the list of all players short names and their ratio and their nationality\n",
    "for i in range(len(Player_list)):\n",
    "    print('(%d) - %s' % (i+1, Player_list[i]))\n",
    "    "
   ]
  },
  {
   "cell_type": "code",
   "execution_count": 63,
   "metadata": {},
   "outputs": [
    {
     "data": {
      "image/png": "[encoded data removed]",
      "text/plain": [
       "<Figure size 1440x360 with 1 Axes>"
      ]
     },
     "metadata": {},
     "output_type": "display_data"
    }
   ],
   "source": [
    "#to make a plot to show each country has howmany players with high ratio\n",
    "plt.figure(figsize=(20,5)) # stretching the plot(resizing it)\n",
    "# this line will make a dataframe from the player_list with 3 columns named like below and group them by the nationality and count how many players with same nationality exist\n",
    "x = pd.DataFrame(Player_list, columns=['name', 'ratio', 'nationality']).groupby('nationality').count()[['name']]\n",
    "plt.bar(height=x['name'], x = x.index) # making a bar plot\n",
    "plt.xticks(x.index, rotation = 'vertical') # for rotating the name of the countries 45' for better readability\n",
    "plt.show() #showing the plot\n",
    "# from the plot it is obvious that english players are more likely to have high ratio for successful passes.\n"
   ]
  },
  {
   "cell_type": "markdown",
   "metadata": {},
   "source": [
    "## [CRQ1] What are the time slots of the match with more goals? "
   ]
  },
  {
   "cell_type": "markdown",
   "metadata": {},
   "source": [
    "In this exercise, the main goal is to analyze different matches by dividing each match in different time intervals of 9 minutes each. \n",
    "    \n",
    "    I.   Make a barplot with the absolute frequency of goals in all the time slots.\n",
    "    II.  Find the top 10 teams that score the most in the interval \"81-90\".\n",
    "    III. Show if there are players that were able to score at least one goal in 8 different intervals.\n",
    "    The first time interval will be the one [0-9), so [0-8]. \n",
    "    We are supposing that when each half time ends, it's at the 45 and 90 minute\n",
    "    mark. So when, for example, a goal is scored at the 45th minute, it's score\n",
    "    in the extra time given (45+)."
   ]
  },
  {
   "cell_type": "markdown",
   "metadata": {},
   "source": [
    "###### I."
   ]
  },
  {
   "cell_type": "code",
   "execution_count": 64,
   "metadata": {},
   "outputs": [
    {
     "name": "stdout",
     "output_type": "stream",
     "text": [
      "Loading datasets...\n",
      "Datasets loaded.\n"
     ]
    }
   ],
   "source": [
    "print(\"Loading datasets...\")\n",
    "events = pd.read_json('./DS/events_England.json')\n",
    "matches = pd.read_json('./DS/matches_England.json')\n",
    "teams = pd.read_json('./DS/teams.json')\n",
    "players = pd.read_json('./DS/players.json')\n",
    "print(\"Datasets loaded.\")\n",
    "\n",
    "# Here we are preparing to make a new dataframe that will contain only useful information\n",
    "# for doing this exercise\n",
    "cols = ['playerId', 'matchPeriod','matchId','teamId', 'eventSec', 'eventInterval']\n",
    "goals_df = pd.DataFrame(columns=cols)"
   ]
  },
  {
   "cell_type": "code",
   "execution_count": 66,
   "metadata": {},
   "outputs": [],
   "source": [
    "for i in range(len(events)):\n",
    "        tags = [t['id'] for t in events['tags'][i]]\n",
    "        \n",
    "        # A goal(101) or an autogoal(102) might be scored. Either way, it's a goal.\n",
    "        if 101 in tags or 102 in tags:\n",
    "            player_id = events['playerId'][i]\n",
    "            match_period = events['matchPeriod'][i]\n",
    "            match_id = events['matchId'][i]\n",
    "            team_id = events['teamId'][i]\n",
    "            event_sec = events['eventSec'][i] # This for now is just a raw string containing the seconds in which the event happened\n",
    "            \n",
    "            row = [{'playerId':player_id,\n",
    "                    'matchPeriod':match_period,\n",
    "                    'matchId':match_id,\n",
    "                    'teamId':team_id,\n",
    "                    'eventSec':event_sec,\n",
    "                    'eventInterval': -1}] # The interval # can be for now set to a default value (-1) which is meaningless (easier debugging).\n",
    "            \n",
    "            # Here is the new row for the dataframe ready to be inserted\n",
    "            new_df_row = pd.DataFrame(row, index=[len(goals_df)]) # Create\n",
    "            goals_df = goals_df.append(new_df_row, ignore_index=True)"
   ]
  },
  {
   "cell_type": "code",
   "execution_count": 67,
   "metadata": {},
   "outputs": [],
   "source": [
    "# Using the new dataset (goals_df) we can start to put each event in its time interval\n",
    "for i in range(len(goals_df)):\n",
    "    seconds = goals_df['eventSec'][i]\n",
    "    period = goals_df['matchPeriod'][i]\n",
    "\n",
    "    minutes = seconds // 60.0 # From seconds to minutes using an integer resulting division\n",
    "\n",
    "    if period == '1H':\n",
    "        if minutes < 45: # If it happened before the beginning of the 45th minute, it's not extra time.\n",
    "            interval = minutes // 9 # 1H with no extra time, dividing by nine will give the interval index (IMPORTANT!)\n",
    "        else:\n",
    "            interval = 5 # Extra time of the 1H, it's going to be assigned to an arbitrary slot\n",
    "    elif period == '2H':\n",
    "        if minutes < 45:\n",
    "            interval = 6 + ( minutes // 9) # 2H with no extra time\n",
    "        else:\n",
    "            interval = 11 # Extra time of the 2H\n",
    "\n",
    "    goals_df.at[i, 'eventInterval'] = interval"
   ]
  },
  {
   "cell_type": "code",
   "execution_count": 68,
   "metadata": {},
   "outputs": [],
   "source": [
    "# Let's start preparing the absolute frequencies\n",
    "fr_interval = np.zeros(12) # Frequencies interval\n",
    "for i in range(len(goals_df)):       \n",
    "    interval_index = int(goals_df['eventInterval'][i]) # Conversion necessary: fetching from dataset directly gives you a float\n",
    "    fr_interval[interval_index] += 1 # We can access directly by index the frequency intervals array"
   ]
  },
  {
   "cell_type": "code",
   "execution_count": 69,
   "metadata": {},
   "outputs": [],
   "source": [
    "# Here we are preparing the label names for each interval\n",
    "x_labels = []\n",
    "for i in range(0, 11):\n",
    "    label = ''\n",
    "    start_minute = 9 * i\n",
    "    end_minute = start_minute + 9\n",
    "\n",
    "    if start_minute == 45 or start_minute == 90:\n",
    "        x_labels.append(str('%d+' % start_minute))\n",
    "\n",
    "    if start_minute != 90:\n",
    "        x_labels.append(str('[%d-%d)' % (start_minute, end_minute)))"
   ]
  },
  {
   "cell_type": "code",
   "execution_count": 70,
   "metadata": {},
   "outputs": [
    {
     "data": {
      "image/png": "[encoded data removed]",
      "text/plain": [
       "<Figure size 720x504 with 1 Axes>"
      ]
     },
     "metadata": {},
     "output_type": "display_data"
    }
   ],
   "source": [
    "# Plotting the goal frequencies for each interval\n",
    "plt.figure(figsize=(10,7))\n",
    "x = np.arange(12)\n",
    "plt.xticks(x, x_labels, rotation=45) # Each 'tick' is a time interval\n",
    "plt.bar(x, fr_interval) # Drawing the actual absolute frequencies\n",
    "plt.show()"
   ]
  },
  {
   "cell_type": "markdown",
   "metadata": {},
   "source": [
    "###### II."
   ]
  },
  {
   "cell_type": "code",
   "execution_count": 71,
   "metadata": {},
   "outputs": [
    {
     "name": "stdout",
     "output_type": "stream",
     "text": [
      "\n"
     ]
    }
   ],
   "source": [
    "# For each team, find the 10 that scored the most in the 81-90 min range \n",
    "# which is interval number 11 (index 10).\n",
    "\n",
    "print()\n",
    "# Just a new line\n",
    "# The team ids will be the keys\n",
    "team_scores_81_90 = {}"
   ]
  },
  {
   "cell_type": "code",
   "execution_count": 72,
   "metadata": {},
   "outputs": [],
   "source": [
    "for i in range(len(goals_df)):\n",
    "\n",
    "\n",
    "    # First we analyze the goal interval, if it's not in the [81-90)\n",
    "    # don't even bother fetching the teamId.\n",
    "    interval = goals_df['eventInterval'][i]\n",
    "    if interval == 10:\n",
    "        team_id = goals_df['teamId'][i]\n",
    "        # If the team is not in the dictionary, initialize it with the initial value of 0\n",
    "        if team_id not in team_scores_81_90.keys():\n",
    "            team_scores_81_90[team_id] = 0\n",
    "        team_scores_81_90[team_id] += 1"
   ]
  },
  {
   "cell_type": "code",
   "execution_count": 73,
   "metadata": {},
   "outputs": [],
   "source": [
    "# Make a DataFrame so we can easily merge with the teams dataset\n",
    "team_scores_81_90 = pd.DataFrame(list(team_scores_81_90.items()), columns=['wyId', 'Scores8190'])\n",
    "team_scores_81_90 = team_scores_81_90.merge(teams, on='wyId', how='inner')"
   ]
  },
  {
   "cell_type": "code",
   "execution_count": 74,
   "metadata": {},
   "outputs": [],
   "source": [
    "# Sort the values by their scores\n",
    "team_scores_81_90 = team_scores_81_90.sort_values(by='Scores8190', ascending=False)"
   ]
  },
  {
   "cell_type": "code",
   "execution_count": 75,
   "metadata": {},
   "outputs": [],
   "source": [
    "# Reset the index now that the rows are sorted by score, printing will be correct (otherwise it will be like they're unordered)\n",
    "team_scores_81_90 = team_scores_81_90.reset_index(drop=True)"
   ]
  },
  {
   "cell_type": "code",
   "execution_count": 76,
   "metadata": {},
   "outputs": [
    {
     "name": "stdout",
     "output_type": "stream",
     "text": [
      "(1°) - Arsenal FC has scored 32 goals in the [81-90) minutes range.\n",
      "(2°) - Watford FC has scored 32 goals in the [81-90) minutes range.\n",
      "(3°) - Manchester City FC has scored 30 goals in the [81-90) minutes range.\n",
      "(4°) - West Ham United FC has scored 30 goals in the [81-90) minutes range.\n",
      "(5°) - Chelsea FC has scored 28 goals in the [81-90) minutes range.\n",
      "(6°) - Crystal Palace FC has scored 26 goals in the [81-90) minutes range.\n",
      "(7°) - Brighton & Hove Albion FC has scored 24 goals in the [81-90) minutes range.\n",
      "(8°) - Everton FC has scored 24 goals in the [81-90) minutes range.\n",
      "(9°) - Swansea City AFC has scored 24 goals in the [81-90) minutes range.\n",
      "(10°) - AFC Bournemouth has scored 22 goals in the [81-90) minutes range.\n"
     ]
    }
   ],
   "source": [
    "# Print the rank of the ten teams that scored most goals in the [81-90) interval\n",
    "for i in range(10):\n",
    "    team_name = team_scores_81_90['officialName'][i]\n",
    "    team_goals_81_90 = team_scores_81_90['Scores8190'][i]\n",
    "\n",
    "    print('(%d°) - %s has scored %d goals in the [81-90) minutes range.' %  (i+1, team_name, team_goals_81_90))"
   ]
  },
  {
   "cell_type": "markdown",
   "metadata": {},
   "source": [
    "###### III. "
   ]
  },
  {
   "cell_type": "code",
   "execution_count": 77,
   "metadata": {},
   "outputs": [
    {
     "name": "stdout",
     "output_type": "stream",
     "text": [
      "\n"
     ]
    }
   ],
   "source": [
    "print()\n",
    "\n",
    "players_eight_intervals = {}"
   ]
  },
  {
   "cell_type": "code",
   "execution_count": 78,
   "metadata": {},
   "outputs": [],
   "source": [
    "# Build list of 'flags': one flag per interval will tell us if a players has scored at least once in the given interval\n",
    "for i in range(len(goals_df)):\n",
    "    player_id = goals_df['playerId'][i]\n",
    "    goal_interval = int(goals_df['eventInterval'][i])\n",
    "\n",
    "    # If player not in dictionary keys, initialize the 'flag' array\n",
    "    if player_id not in players_eight_intervals.keys():\n",
    "        players_eight_intervals[player_id] = np.zeros(12)\n",
    "\n",
    "    players_eight_intervals[player_id][goal_interval] = 1"
   ]
  },
  {
   "cell_type": "code",
   "execution_count": 79,
   "metadata": {},
   "outputs": [
    {
     "name": "stdout",
     "output_type": "stream",
     "text": [
      "\tA. Lacazette has scored goals in 8 different intervals.\n",
      "\tK. Schmeichel has scored goals in 12 different intervals.\n",
      "\tP. \\u010cech has scored goals in 11 different intervals.\n",
      "\tJ. Vardy has scored goals in 11 different intervals.\n",
      "\tM. Ryan has scored goals in 12 different intervals.\n",
      "\tT. Courtois has scored goals in 11 different intervals.\n",
      "\t\\u00c1lvaro Morata has scored goals in 9 different intervals.\n",
      "\tW. Hennessey has scored goals in 11 different intervals.\n",
      "\tJ. Butland has scored goals in 11 different intervals.\n",
      "\tR. Lukaku has scored goals in 9 different intervals.\n",
      "\tJ. Hart has scored goals in 12 different intervals.\n",
      "\tR. Elliot has scored goals in 10 different intervals.\n",
      "\tS. Mignolet has scored goals in 11 different intervals.\n",
      "\tGomes has scored goals in 11 different intervals.\n",
      "\tRoberto Firmino has scored goals in 8 different intervals.\n",
      "\tMohamed Salah has scored goals in 11 different intervals.\n",
      "\tA. Begovi\\u0107 has scored goals in 12 different intervals.\n",
      "\tEderson has scored goals in 12 different intervals.\n",
      "\tR. Sterling has scored goals in 11 different intervals.\n",
      "\tJ. Pickford has scored goals in 11 different intervals.\n",
      "\t\\u0141. Fabia\\u0144ski has scored goals in 11 different intervals.\n",
      "\tH. Lloris has scored goals in 12 different intervals.\n",
      "\tA. McCarthy has scored goals in 10 different intervals.\n",
      "\tM. Arnautovi\\u0107 has scored goals in 8 different intervals.\n",
      "\tGabriel Jesus has scored goals in 9 different intervals.\n",
      "\tB. Foster has scored goals in 12 different intervals.\n",
      "\tH. Kane has scored goals in 11 different intervals.\n",
      "\tF. Forster has scored goals in 10 different intervals.\n",
      "\tDavid de Gea has scored goals in 11 different intervals.\n",
      "\tJ. L\\u00f6ssl has scored goals in 12 different intervals.\n",
      "\tN. Pope has scored goals in 11 different intervals.\n",
      "\tJ. Speroni has scored goals in 10 different intervals.\n",
      "\tW. Zaha has scored goals in 8 different intervals.\n",
      "\tR. Mahrez has scored goals in 9 different intervals.\n",
      "\tO. Karnezis has scored goals in 9 different intervals.\n",
      "\tAdri\\u00e1n has scored goals in 11 different intervals.\n",
      "\tL. Karius has scored goals in 9 different intervals.\n"
     ]
    }
   ],
   "source": [
    "for key in players_eight_intervals.keys():\n",
    "    # Since each flag is 1 or 0, a sum of the flag values is enough to tell us how many intervals \n",
    "    # the player has scored at least once in.\n",
    "    num_goals_in_intervals = sum(players_eight_intervals[key])\n",
    "\n",
    "    # So if it's greater or equal to 8, we bother fetching the player's name from the players dataset\n",
    "    if num_goals_in_intervals >= 8:\n",
    "        player_name = players.loc[players['wyId'] == key, 'shortName'].iloc[0]\n",
    "\n",
    "        # Disable this in case it was not requested.\n",
    "        # Here we are printing how many intervals the players has scored in.\n",
    "        print('\\t%s has scored goals in %d different intervals.' % (player_name, num_goals_in_intervals))"
   ]
  },
  {
   "cell_type": "code",
   "execution_count": 80,
   "metadata": {},
   "outputs": [
    {
     "name": "stdout",
     "output_type": "stream",
     "text": [
      "There are players that scored goals in at least 8 different intervals.\n"
     ]
    }
   ],
   "source": [
    "# As requested by the exercise, here we are showing if there were any players that scored \n",
    "# in at least 8 different intervals (the number of keys = the number of players that did it)\n",
    "if len(players_eight_intervals.keys()) > 0:\n",
    "    print('There are players that scored goals in at least 8 different intervals.')\n",
    "else:\n",
    "    print('Unfortunately there were not any players that scored goals in at least 8 different intervals.')"
   ]
  },
  {
   "cell_type": "markdown",
   "metadata": {},
   "source": [
    "## [CRQ2] Visualize movements and passes on the pitch!"
   ]
  },
  {
   "cell_type": "markdown",
   "metadata": {},
   "source": [
    "This is a function for returning ID of match based on teams which are involved, date and country which game palyed in."
   ]
  },
  {
   "cell_type": "code",
   "execution_count": 103,
   "metadata": {},
   "outputs": [],
   "source": [
    "def get_match_id(team1, team2, str_date, nationality):\n",
    "    \n",
    "    matches_dataset = pd.read_json(('./DS/matches_%s.json' % nationality))\n",
    "    \n",
    "    date = datetime.strptime(str_date, '%Y-%m-%d')\n",
    "    for i in range(len(matches_dataset)):\n",
    "        match_id = matches_dataset['wyId'][i]\n",
    "        match_label = matches_dataset['label'][i]\n",
    "        str_match_date = matches_dataset['dateutc'][i]\n",
    "        \n",
    "        match_date = datetime.strptime(str_match_date, '%Y-%m-%d %H:%M:%S')\n",
    "        if date.year == match_date.year and date.month == match_date.month and date.day == match_date.day:\n",
    "            if team1 in match_label and team2 in match_label:\n",
    "                return match_id\n",
    "            \n",
    "    return -1"
   ]
  },
  {
   "cell_type": "markdown",
   "metadata": {},
   "source": [
    "This is a function for returning ID of a player based on first name and last name of that player."
   ]
  },
  {
   "cell_type": "code",
   "execution_count": 104,
   "metadata": {},
   "outputs": [],
   "source": [
    "def get_player_id(name, last_name):\n",
    "    name = name.lower()\n",
    "    last_name = last_name.lower()\n",
    "    \n",
    "    players = pd.read_json(str('./DS/players.json'))\n",
    "    \n",
    "    for i in range(len(players)):\n",
    "        player_id = players['wyId'][i]\n",
    "        player_name = players['firstName'][i] + players['middleName'][i] + players['lastName'][i]\n",
    "        player_name = player_name.lower()\n",
    "        if name in player_name and last_name in player_name:\n",
    "            return player_id\n",
    "        \n",
    "    return -1"
   ]
  },
  {
   "cell_type": "markdown",
   "metadata": {},
   "source": [
    "This is a function for returning detalis of a match based on ID of match and ID of players who were involved."
   ]
  },
  {
   "cell_type": "code",
   "execution_count": 105,
   "metadata": {},
   "outputs": [],
   "source": [
    "def get_match_events(events_dataset, match_id, player1_id, player2_id):\n",
    "    event_types = ['pass', 'shot', 'duel', 'free kick']\n",
    "    events = {player1_id:[], player2_id:[]}\n",
    "    \n",
    "    for i in range(len(events_dataset)):\n",
    "        event_match_id = events_dataset['matchId'][i]\n",
    "        \n",
    "        if event_match_id == match_id:\n",
    "            player_id = events_dataset['playerId'][i]\n",
    "            \n",
    "            if player1_id == player_id or player2_id == player_id:    \n",
    "                event_type = events_dataset['eventName'][i]\n",
    "    \n",
    "                if event_type.lower() in event_types:\n",
    "                    \n",
    "                    positions = events_dataset['positions'][i]\n",
    "                    match_period = events_dataset['matchPeriod'][i]\n",
    "                    \n",
    "                    positions = [positions[0]['x'], 100 - positions[0]['y']]\n",
    "                    \n",
    "                    if match_period == '1H' and False:\n",
    "                        positions[0] = 100 - positions[0]\n",
    "                        positions[1] = 100 - positions[1]\n",
    "                        \n",
    "                    positions[0] = 120 * positions[0] * 0.01\n",
    "                    positions[1] = 80 * positions[1] * 0.01\n",
    "                    \n",
    "                    events[player_id].append(positions)\n",
    "                  \n",
    "    return events"
   ]
  },
  {
   "cell_type": "markdown",
   "metadata": {},
   "source": [
    "This is a function for darwing heat map of a player based on positions of that player and desired color."
   ]
  },
  {
   "cell_type": "code",
   "execution_count": 106,
   "metadata": {},
   "outputs": [],
   "source": [
    "def print_field_performance(positions, color):\n",
    "    # Print the field\n",
    "    fig=plt.figure() #set up the figures\n",
    "    fig.set_size_inches(7, 5)\n",
    "    ax=fig.add_subplot(1,1,1)\n",
    "    draw_pitch(ax) #overlay our different objects on the pitch\n",
    "    plt.ylim(-2, 82)\n",
    "    plt.xlim(-2, 122)\n",
    "    plt.axis('off')\n",
    "    # End drawing field\n",
    "    \n",
    "    x_positions = [p[0] for p in positions]\n",
    "    y_positions = [p[1] for p in positions]\n",
    "    \n",
    "    sns.kdeplot(x_positions, y_positions, shade = \"True\", color = color, n_levels = 30)\n",
    "   \n",
    "    plt.show()"
   ]
  },
  {
   "cell_type": "markdown",
   "metadata": {},
   "source": [
    "This is a function for darwing playground of match."
   ]
  },
  {
   "cell_type": "code",
   "execution_count": 107,
   "metadata": {},
   "outputs": [],
   "source": [
    "def draw_pitch(ax):\n",
    "    # focus on only half of the pitch\n",
    "    #Pitch Outline & Centre Line\n",
    "    Pitch = Rectangle([0,0], width = 120, height = 80, fill = False)\n",
    "    #Left, Right Penalty Area and midline\n",
    "    LeftPenalty = Rectangle([0,22.3], width = 14.6, height = 35.3, fill = False)\n",
    "    RightPenalty = Rectangle([105.4,22.3], width = 14.6, height = 35.3, fill = False)\n",
    "    midline = ConnectionPatch([60,0], [60,80], \"data\", \"data\")\n",
    "\n",
    "    #Left, Right 6-yard Box\n",
    "    LeftSixYard = Rectangle([0,32], width = 4.9, height = 16, fill = False)\n",
    "    RightSixYard = Rectangle([115.1,32], width = 4.9, height = 16, fill = False)\n",
    "\n",
    "\n",
    "    #Prepare Circles\n",
    "    centreCircle = plt.Circle((60,40),8.1,color=\"black\", fill = False)\n",
    "    centreSpot = plt.Circle((60,40),0.71,color=\"black\")\n",
    "    #Penalty spots and Arcs around penalty boxes\n",
    "    leftPenSpot = plt.Circle((9.7,40),0.71,color=\"black\")\n",
    "    rightPenSpot = plt.Circle((110.3,40),0.71,color=\"black\")\n",
    "    leftArc = Arc((9.7,40),height=16.2,width=16.2,angle=0,theta1=310,theta2=50,color=\"black\")\n",
    "    rightArc = Arc((110.3,40),height=16.2,width=16.2,angle=0,theta1=130,theta2=230,color=\"black\")\n",
    "    \n",
    "    element = [Pitch, LeftPenalty, RightPenalty, midline, LeftSixYard, RightSixYard, centreCircle, \n",
    "               centreSpot, rightPenSpot, leftPenSpot, leftArc, rightArc]\n",
    "    for i in element:\n",
    "        ax.add_patch(i)"
   ]
  },
  {
   "cell_type": "markdown",
   "metadata": {},
   "source": [
    "Here we upload related dataset for answering CRQ2."
   ]
  },
  {
   "cell_type": "code",
   "execution_count": 108,
   "metadata": {},
   "outputs": [],
   "source": [
    "spain_events = pd.read_json('./DS/events_Spain.json')\n",
    "spain_matches = pd.read_json('./DS/matches_Spain.json')"
   ]
  },
  {
   "cell_type": "markdown",
   "metadata": {},
   "source": [
    "###### I."
   ]
  },
  {
   "cell_type": "markdown",
   "metadata": {},
   "source": [
    "Finding out the match ID between Barcelona and Real Madrid on desired date in LA LIGA"
   ]
  },
  {
   "cell_type": "code",
   "execution_count": 109,
   "metadata": {},
   "outputs": [],
   "source": [
    "match_id = get_match_id('Barcelona', 'Real Madrid', '2018-5-6', 'Spain')"
   ]
  },
  {
   "cell_type": "markdown",
   "metadata": {},
   "source": [
    "Taking a short look at LA LIGA matches for getting familiar with columns."
   ]
  },
  {
   "cell_type": "code",
   "execution_count": 96,
   "metadata": {},
   "outputs": [
    {
     "data": {
      "text/html": [
       "<div>\n",
       "<style scoped>\n",
       "    .dataframe tbody tr th:only-of-type {\n",
       "        vertical-align: middle;\n",
       "    }\n",
       "\n",
       "    .dataframe tbody tr th {\n",
       "        vertical-align: top;\n",
       "    }\n",
       "\n",
       "    .dataframe thead th {\n",
       "        text-align: right;\n",
       "    }\n",
       "</style>\n",
       "<table border=\"1\" class=\"dataframe\">\n",
       "  <thead>\n",
       "    <tr style=\"text-align: right;\">\n",
       "      <th></th>\n",
       "      <th>competitionId</th>\n",
       "      <th>date</th>\n",
       "      <th>dateutc</th>\n",
       "      <th>duration</th>\n",
       "      <th>gameweek</th>\n",
       "      <th>label</th>\n",
       "      <th>referees</th>\n",
       "      <th>roundId</th>\n",
       "      <th>seasonId</th>\n",
       "      <th>status</th>\n",
       "      <th>teamsData</th>\n",
       "      <th>venue</th>\n",
       "      <th>winner</th>\n",
       "      <th>wyId</th>\n",
       "    </tr>\n",
       "  </thead>\n",
       "  <tbody>\n",
       "    <tr>\n",
       "      <th>0</th>\n",
       "      <td>795</td>\n",
       "      <td>May 20, 2018 at 8:45:00 PM GMT+2</td>\n",
       "      <td>2018-05-20 18:45:00</td>\n",
       "      <td>Regular</td>\n",
       "      <td>38</td>\n",
       "      <td>Barcelona - Real Sociedad, 1 - 0</td>\n",
       "      <td>[{'refereeId': 398931, 'role': 'referee'}, {'r...</td>\n",
       "      <td>4406122</td>\n",
       "      <td>181144</td>\n",
       "      <td>Played</td>\n",
       "      <td>{'676': {'scoreET': 0, 'coachId': 92894, 'side...</td>\n",
       "      <td>Camp Nou</td>\n",
       "      <td>676</td>\n",
       "      <td>2565922</td>\n",
       "    </tr>\n",
       "    <tr>\n",
       "      <th>1</th>\n",
       "      <td>795</td>\n",
       "      <td>May 20, 2018 at 6:30:00 PM GMT+2</td>\n",
       "      <td>2018-05-20 16:30:00</td>\n",
       "      <td>Regular</td>\n",
       "      <td>38</td>\n",
       "      <td>Atl\\u00e9tico Madrid - Eibar, 2 - 2</td>\n",
       "      <td>[{'refereeId': 395056, 'role': 'referee'}, {'r...</td>\n",
       "      <td>4406122</td>\n",
       "      <td>181144</td>\n",
       "      <td>Played</td>\n",
       "      <td>{'679': {'scoreET': 0, 'coachId': 3427, 'side'...</td>\n",
       "      <td>Estadio Wanda Metropolitano</td>\n",
       "      <td>0</td>\n",
       "      <td>2565925</td>\n",
       "    </tr>\n",
       "    <tr>\n",
       "      <th>2</th>\n",
       "      <td>795</td>\n",
       "      <td>May 20, 2018 at 4:15:00 PM GMT+2</td>\n",
       "      <td>2018-05-20 14:15:00</td>\n",
       "      <td>Regular</td>\n",
       "      <td>38</td>\n",
       "      <td>Athletic Club - Espanyol, 0 - 1</td>\n",
       "      <td>[{'refereeId': 384957, 'role': 'referee'}, {'r...</td>\n",
       "      <td>4406122</td>\n",
       "      <td>181144</td>\n",
       "      <td>Played</td>\n",
       "      <td>{'691': {'scoreET': 0, 'coachId': 444778, 'sid...</td>\n",
       "      <td>San Mam\\u00e9s Barria</td>\n",
       "      <td>691</td>\n",
       "      <td>2565919</td>\n",
       "    </tr>\n",
       "    <tr>\n",
       "      <th>3</th>\n",
       "      <td>795</td>\n",
       "      <td>May 20, 2018 at 12:00:00 PM GMT+2</td>\n",
       "      <td>2018-05-20 10:00:00</td>\n",
       "      <td>Regular</td>\n",
       "      <td>38</td>\n",
       "      <td>Valencia - Deportivo La Coru\\u00f1a, 2 - 1</td>\n",
       "      <td>[{'refereeId': 398913, 'role': 'referee'}, {'r...</td>\n",
       "      <td>4406122</td>\n",
       "      <td>181144</td>\n",
       "      <td>Played</td>\n",
       "      <td>{'674': {'scoreET': 0, 'coachId': 210074, 'sid...</td>\n",
       "      <td>Estadio de Mestalla</td>\n",
       "      <td>674</td>\n",
       "      <td>2565924</td>\n",
       "    </tr>\n",
       "    <tr>\n",
       "      <th>4</th>\n",
       "      <td>795</td>\n",
       "      <td>May 19, 2018 at 8:45:00 PM GMT+2</td>\n",
       "      <td>2018-05-19 18:45:00</td>\n",
       "      <td>Regular</td>\n",
       "      <td>38</td>\n",
       "      <td>Villarreal - Real Madrid, 2 - 2</td>\n",
       "      <td>[{'refereeId': 395085, 'role': 'referee'}, {'r...</td>\n",
       "      <td>4406122</td>\n",
       "      <td>181144</td>\n",
       "      <td>Played</td>\n",
       "      <td>{'675': {'scoreET': 0, 'coachId': 275283, 'sid...</td>\n",
       "      <td>Estadio de la Cer\\u00e1mica</td>\n",
       "      <td>0</td>\n",
       "      <td>2565927</td>\n",
       "    </tr>\n",
       "  </tbody>\n",
       "</table>\n",
       "</div>"
      ],
      "text/plain": [
       "   competitionId                               date              dateutc  \\\n",
       "0            795   May 20, 2018 at 8:45:00 PM GMT+2  2018-05-20 18:45:00   \n",
       "1            795   May 20, 2018 at 6:30:00 PM GMT+2  2018-05-20 16:30:00   \n",
       "2            795   May 20, 2018 at 4:15:00 PM GMT+2  2018-05-20 14:15:00   \n",
       "3            795  May 20, 2018 at 12:00:00 PM GMT+2  2018-05-20 10:00:00   \n",
       "4            795   May 19, 2018 at 8:45:00 PM GMT+2  2018-05-19 18:45:00   \n",
       "\n",
       "  duration  gameweek                                       label  \\\n",
       "0  Regular        38            Barcelona - Real Sociedad, 1 - 0   \n",
       "1  Regular        38         Atl\\u00e9tico Madrid - Eibar, 2 - 2   \n",
       "2  Regular        38             Athletic Club - Espanyol, 0 - 1   \n",
       "3  Regular        38  Valencia - Deportivo La Coru\\u00f1a, 2 - 1   \n",
       "4  Regular        38             Villarreal - Real Madrid, 2 - 2   \n",
       "\n",
       "                                            referees  roundId  seasonId  \\\n",
       "0  [{'refereeId': 398931, 'role': 'referee'}, {'r...  4406122    181144   \n",
       "1  [{'refereeId': 395056, 'role': 'referee'}, {'r...  4406122    181144   \n",
       "2  [{'refereeId': 384957, 'role': 'referee'}, {'r...  4406122    181144   \n",
       "3  [{'refereeId': 398913, 'role': 'referee'}, {'r...  4406122    181144   \n",
       "4  [{'refereeId': 395085, 'role': 'referee'}, {'r...  4406122    181144   \n",
       "\n",
       "   status                                          teamsData  \\\n",
       "0  Played  {'676': {'scoreET': 0, 'coachId': 92894, 'side...   \n",
       "1  Played  {'679': {'scoreET': 0, 'coachId': 3427, 'side'...   \n",
       "2  Played  {'691': {'scoreET': 0, 'coachId': 444778, 'sid...   \n",
       "3  Played  {'674': {'scoreET': 0, 'coachId': 210074, 'sid...   \n",
       "4  Played  {'675': {'scoreET': 0, 'coachId': 275283, 'sid...   \n",
       "\n",
       "                         venue  winner     wyId  \n",
       "0                     Camp Nou     676  2565922  \n",
       "1  Estadio Wanda Metropolitano       0  2565925  \n",
       "2        San Mam\\u00e9s Barria     691  2565919  \n",
       "3          Estadio de Mestalla     674  2565924  \n",
       "4  Estadio de la Cer\\u00e1mica       0  2565927  "
      ]
     },
     "execution_count": 96,
     "metadata": {},
     "output_type": "execute_result"
    }
   ],
   "source": [
    "spain_matches.head()"
   ]
  },
  {
   "cell_type": "markdown",
   "metadata": {},
   "source": [
    "Receiving Ronaldo and Messi ID , Events in the match between them."
   ]
  },
  {
   "cell_type": "code",
   "execution_count": 110,
   "metadata": {},
   "outputs": [],
   "source": [
    "ronaldo_id = get_player_id('Cristiano', 'Ronaldo')\n",
    "messi_id = get_player_id('Lionel', 'Messi')"
   ]
  },
  {
   "cell_type": "code",
   "execution_count": 111,
   "metadata": {},
   "outputs": [],
   "source": [
    "events = get_match_events(spain_events, match_id, ronaldo_id, messi_id)Drawing heat map of Ronaldo and Messi"
   ]
  },
  {
   "cell_type": "markdown",
   "metadata": {},
   "source": [
    "###### Drawing heat map of Ronaldo and Messi:"
   ]
  },
  {
   "cell_type": "code",
   "execution_count": 112,
   "metadata": {},
   "outputs": [
    {
     "data": {
      "image/png": "[encoded data removed]",
      "text/plain": [
       "<Figure size 504x360 with 1 Axes>"
      ]
     },
     "metadata": {},
     "output_type": "display_data"
    }
   ],
   "source": [
    "print_field_performance(events[ronaldo_id], 'blue')"
   ]
  },
  {
   "cell_type": "code",
   "execution_count": 115,
   "metadata": {},
   "outputs": [
    {
     "data": {
      "image/png": "[encoded data removed]",
      "text/plain": [
       "<Figure size 504x360 with 1 Axes>"
      ]
     },
     "metadata": {},
     "output_type": "display_data"
    }
   ],
   "source": [
    "print_field_performance(events[messi_id], 'green')"
   ]
  },
  {
   "cell_type": "markdown",
   "metadata": {},
   "source": [
    "###### II."
   ]
  },
  {
   "cell_type": "markdown",
   "metadata": {},
   "source": [
    "In this question we need to load information of Italian league"
   ]
  },
  {
   "cell_type": "code",
   "execution_count": 118,
   "metadata": {},
   "outputs": [],
   "source": [
    "italy_matches = pd.read_json('./DS/matches_Italy.json')"
   ]
  },
  {
   "cell_type": "code",
   "execution_count": 119,
   "metadata": {},
   "outputs": [
    {
     "data": {
      "text/html": [
       "<div>\n",
       "<style scoped>\n",
       "    .dataframe tbody tr th:only-of-type {\n",
       "        vertical-align: middle;\n",
       "    }\n",
       "\n",
       "    .dataframe tbody tr th {\n",
       "        vertical-align: top;\n",
       "    }\n",
       "\n",
       "    .dataframe thead th {\n",
       "        text-align: right;\n",
       "    }\n",
       "</style>\n",
       "<table border=\"1\" class=\"dataframe\">\n",
       "  <thead>\n",
       "    <tr style=\"text-align: right;\">\n",
       "      <th></th>\n",
       "      <th>competitionId</th>\n",
       "      <th>date</th>\n",
       "      <th>dateutc</th>\n",
       "      <th>duration</th>\n",
       "      <th>gameweek</th>\n",
       "      <th>label</th>\n",
       "      <th>referees</th>\n",
       "      <th>roundId</th>\n",
       "      <th>seasonId</th>\n",
       "      <th>status</th>\n",
       "      <th>teamsData</th>\n",
       "      <th>venue</th>\n",
       "      <th>winner</th>\n",
       "      <th>wyId</th>\n",
       "    </tr>\n",
       "  </thead>\n",
       "  <tbody>\n",
       "    <tr>\n",
       "      <th>0</th>\n",
       "      <td>524</td>\n",
       "      <td>May 20, 2018 at 8:45:00 PM GMT+2</td>\n",
       "      <td>2018-05-20 18:45:00</td>\n",
       "      <td>Regular</td>\n",
       "      <td>38</td>\n",
       "      <td>Lazio - Internazionale, 2 - 3</td>\n",
       "      <td>[{'refereeId': 377206, 'role': 'referee'}, {'r...</td>\n",
       "      <td>4406278</td>\n",
       "      <td>181248</td>\n",
       "      <td>Played</td>\n",
       "      <td>{'3162': {'scoreET': 0, 'coachId': 251025, 'si...</td>\n",
       "      <td></td>\n",
       "      <td>3161</td>\n",
       "      <td>2576335</td>\n",
       "    </tr>\n",
       "    <tr>\n",
       "      <th>1</th>\n",
       "      <td>524</td>\n",
       "      <td>May 20, 2018 at 8:45:00 PM GMT+2</td>\n",
       "      <td>2018-05-20 18:45:00</td>\n",
       "      <td>Regular</td>\n",
       "      <td>38</td>\n",
       "      <td>Sassuolo - Roma, 0 - 1</td>\n",
       "      <td>[{'refereeId': 377255, 'role': 'referee'}, {'r...</td>\n",
       "      <td>4406278</td>\n",
       "      <td>181248</td>\n",
       "      <td>Played</td>\n",
       "      <td>{'3158': {'scoreET': 0, 'coachId': 210119, 'si...</td>\n",
       "      <td>MAPEI Stadium - Citt\\u00e0 del Tricolore</td>\n",
       "      <td>3158</td>\n",
       "      <td>2576336</td>\n",
       "    </tr>\n",
       "    <tr>\n",
       "      <th>2</th>\n",
       "      <td>524</td>\n",
       "      <td>May 20, 2018 at 6:00:00 PM GMT+2</td>\n",
       "      <td>2018-05-20 16:00:00</td>\n",
       "      <td>Regular</td>\n",
       "      <td>38</td>\n",
       "      <td>Cagliari - Atalanta, 1 - 0</td>\n",
       "      <td>[{'refereeId': 377247, 'role': 'referee'}, {'r...</td>\n",
       "      <td>4406278</td>\n",
       "      <td>181248</td>\n",
       "      <td>Played</td>\n",
       "      <td>{'3173': {'scoreET': 0, 'coachId': 251044, 'si...</td>\n",
       "      <td></td>\n",
       "      <td>3173</td>\n",
       "      <td>2576329</td>\n",
       "    </tr>\n",
       "    <tr>\n",
       "      <th>3</th>\n",
       "      <td>524</td>\n",
       "      <td>May 20, 2018 at 6:00:00 PM GMT+2</td>\n",
       "      <td>2018-05-20 16:00:00</td>\n",
       "      <td>Regular</td>\n",
       "      <td>38</td>\n",
       "      <td>Chievo - Benevento, 1 - 0</td>\n",
       "      <td>[{'refereeId': 377246, 'role': 'referee'}, {'r...</td>\n",
       "      <td>4406278</td>\n",
       "      <td>181248</td>\n",
       "      <td>Played</td>\n",
       "      <td>{'3165': {'scoreET': 0, 'coachId': 272970, 'si...</td>\n",
       "      <td></td>\n",
       "      <td>3165</td>\n",
       "      <td>2576330</td>\n",
       "    </tr>\n",
       "    <tr>\n",
       "      <th>4</th>\n",
       "      <td>524</td>\n",
       "      <td>May 20, 2018 at 6:00:00 PM GMT+2</td>\n",
       "      <td>2018-05-20 16:00:00</td>\n",
       "      <td>Regular</td>\n",
       "      <td>38</td>\n",
       "      <td>Udinese - Bologna, 1 - 0</td>\n",
       "      <td>[{'refereeId': 377254, 'role': 'referee'}, {'r...</td>\n",
       "      <td>4406278</td>\n",
       "      <td>181248</td>\n",
       "      <td>Played</td>\n",
       "      <td>{'3166': {'scoreET': 0, 'coachId': 20481, 'sid...</td>\n",
       "      <td></td>\n",
       "      <td>3163</td>\n",
       "      <td>2576331</td>\n",
       "    </tr>\n",
       "  </tbody>\n",
       "</table>\n",
       "</div>"
      ],
      "text/plain": [
       "   competitionId                              date              dateutc  \\\n",
       "0            524  May 20, 2018 at 8:45:00 PM GMT+2  2018-05-20 18:45:00   \n",
       "1            524  May 20, 2018 at 8:45:00 PM GMT+2  2018-05-20 18:45:00   \n",
       "2            524  May 20, 2018 at 6:00:00 PM GMT+2  2018-05-20 16:00:00   \n",
       "3            524  May 20, 2018 at 6:00:00 PM GMT+2  2018-05-20 16:00:00   \n",
       "4            524  May 20, 2018 at 6:00:00 PM GMT+2  2018-05-20 16:00:00   \n",
       "\n",
       "  duration  gameweek                          label  \\\n",
       "0  Regular        38  Lazio - Internazionale, 2 - 3   \n",
       "1  Regular        38         Sassuolo - Roma, 0 - 1   \n",
       "2  Regular        38     Cagliari - Atalanta, 1 - 0   \n",
       "3  Regular        38      Chievo - Benevento, 1 - 0   \n",
       "4  Regular        38       Udinese - Bologna, 1 - 0   \n",
       "\n",
       "                                            referees  roundId  seasonId  \\\n",
       "0  [{'refereeId': 377206, 'role': 'referee'}, {'r...  4406278    181248   \n",
       "1  [{'refereeId': 377255, 'role': 'referee'}, {'r...  4406278    181248   \n",
       "2  [{'refereeId': 377247, 'role': 'referee'}, {'r...  4406278    181248   \n",
       "3  [{'refereeId': 377246, 'role': 'referee'}, {'r...  4406278    181248   \n",
       "4  [{'refereeId': 377254, 'role': 'referee'}, {'r...  4406278    181248   \n",
       "\n",
       "   status                                          teamsData  \\\n",
       "0  Played  {'3162': {'scoreET': 0, 'coachId': 251025, 'si...   \n",
       "1  Played  {'3158': {'scoreET': 0, 'coachId': 210119, 'si...   \n",
       "2  Played  {'3173': {'scoreET': 0, 'coachId': 251044, 'si...   \n",
       "3  Played  {'3165': {'scoreET': 0, 'coachId': 272970, 'si...   \n",
       "4  Played  {'3166': {'scoreET': 0, 'coachId': 20481, 'sid...   \n",
       "\n",
       "                                      venue  winner     wyId  \n",
       "0                                              3161  2576335  \n",
       "1  MAPEI Stadium - Citt\\u00e0 del Tricolore    3158  2576336  \n",
       "2                                              3173  2576329  \n",
       "3                                              3165  2576330  \n",
       "4                                              3163  2576331  "
      ]
     },
     "execution_count": 119,
     "metadata": {},
     "output_type": "execute_result"
    }
   ],
   "source": [
    "italy_matches.head()"
   ]
  },
  {
   "cell_type": "markdown",
   "metadata": {},
   "source": [
    "Having Match ID between Juventus and Napoli, ID of Jorginho and Pjanic."
   ]
  },
  {
   "cell_type": "code",
   "execution_count": 120,
   "metadata": {},
   "outputs": [
    {
     "data": {
      "text/plain": [
       "2576295"
      ]
     },
     "execution_count": 120,
     "metadata": {},
     "output_type": "execute_result"
    }
   ],
   "source": [
    "juv_nap_match_id = get_match_id('Juventus', 'Napoli', '2018-04-22', 'Italy')\n",
    "juv_nap_match_id"
   ]
  },
  {
   "cell_type": "code",
   "execution_count": 121,
   "metadata": {},
   "outputs": [
    {
     "data": {
      "text/plain": [
       "21315"
      ]
     },
     "execution_count": 121,
     "metadata": {},
     "output_type": "execute_result"
    }
   ],
   "source": [
    "italy_events = pd.read_json('./DS/events_Italy.json')\n",
    "jorginho_id = get_player_id('Jorge Luiz', 'Filho')\n",
    "pjanic_id = get_player_id('Miralem', 'Pjani')\n",
    "jorginho_id"
   ]
  },
  {
   "cell_type": "code",
   "execution_count": 122,
   "metadata": {},
   "outputs": [
    {
     "data": {
      "text/plain": [
       "20443"
      ]
     },
     "execution_count": 122,
     "metadata": {},
     "output_type": "execute_result"
    }
   ],
   "source": [
    "pjanic_id"
   ]
  },
  {
   "cell_type": "markdown",
   "metadata": {},
   "source": [
    "This is a function for extracting PASSES of a game for 2 players based on match ID, related dataset and ID of players."
   ]
  },
  {
   "cell_type": "code",
   "execution_count": 123,
   "metadata": {},
   "outputs": [],
   "source": [
    "def get_passes_from_events(events_dataset, match_id, player1_id, player2_id):\n",
    "    \n",
    "    event_types = ['pass']\n",
    "    events = {player1_id:[], player2_id:[]}\n",
    "    \n",
    "    for i in range(len(events_dataset)):\n",
    "        event_match_id = events_dataset['matchId'][i]\n",
    "        \n",
    "        if event_match_id == match_id:\n",
    "            player_id = events_dataset['playerId'][i]\n",
    "            \n",
    "            if player1_id == player_id or player2_id == player_id:    \n",
    "                event_type = events_dataset['eventName'][i]\n",
    "    \n",
    "                if event_type.lower() in event_types:\n",
    "                    \n",
    "                    positions = events_dataset['positions'][i]\n",
    "                    match_period = events_dataset['matchPeriod'][i]\n",
    "                    additional_tags = [e['id'] for e in italy_events['tags'][i]]\n",
    "                    \n",
    "                    start_position = [positions[0]['x'], 100 - positions[0]['y']]\n",
    "                    ending_position = [positions[1]['x'], 100 - positions[1]['y']]\n",
    "                    \n",
    "                    successful = False\n",
    "                    if 1801 in additional_tags:\n",
    "                        successful = True\n",
    "                    \n",
    "                    positions = [start_position, ending_position, successful]\n",
    "                    \n",
    "                    positions[0][0] = 120 * positions[0][0] * 0.01\n",
    "                    positions[1][0] = 120 * positions[1][0] * 0.01\n",
    "                    \n",
    "                    positions[0][1] = 80 * positions[0][1] * 0.01\n",
    "                    positions[1][1] = 80 * positions[1][1] * 0.01\n",
    "                    \n",
    "                    events[player_id].append(positions)\n",
    "                  \n",
    "    return events"
   ]
  },
  {
   "cell_type": "markdown",
   "metadata": {},
   "source": [
    "Extracting passes of Juv vs. Nap match for Jorginho and Pjanic."
   ]
  },
  {
   "cell_type": "code",
   "execution_count": 124,
   "metadata": {},
   "outputs": [
    {
     "data": {
      "text/plain": [
       "{21315: [[[56.4, 20.0], [74.4, 23.2], True],\n",
       "  [[85.2, 44.800000000000004], [82.8, 46.4], False],\n",
       "  [[56.4, 22.400000000000002], [73.2, 3.2], True],\n",
       "  [[68.4, 57.6], [92.4, 53.6], True],\n",
       "  [[73.2, 60.0], [88.8, 69.60000000000001], True],\n",
       "  [[76.8, 61.6], [85.2, 64.0], True],\n",
       "  [[67.2, 20.0], [87.60000000000001, 20.0], True],\n",
       "  [[32.4, 24.0], [32.4, 35.2], False],\n",
       "  [[31.2, 29.6], [34.800000000000004, 38.4], True],\n",
       "  [[46.800000000000004, 26.400000000000002],\n",
       "   [69.60000000000001, 15.200000000000001],\n",
       "   True],\n",
       "  [[39.6, 11.200000000000001], [49.2, 16.8], True],\n",
       "  [[82.8, 60.0], [99.60000000000001, 72.8], True],\n",
       "  [[76.8, 59.2], [67.2, 68.8], True],\n",
       "  [[76.8, 11.200000000000001], [81.60000000000001, 5.6000000000000005], True],\n",
       "  [[73.2, 8.0], [69.60000000000001, 17.6], True],\n",
       "  [[62.4, 37.6], [60.0, 21.6], True],\n",
       "  [[73.2, 58.4], [86.4, 76.0], True],\n",
       "  [[72.0, 61.6], [88.8, 60.0], True],\n",
       "  [[81.60000000000001, 50.4], [84.0, 41.6], True],\n",
       "  [[74.4, 18.400000000000002], [90.0, 11.200000000000001], True],\n",
       "  [[76.8, 16.0], [92.4, 12.0], True],\n",
       "  [[79.2, 16.0], [80.4, 20.0], True],\n",
       "  [[36.0, 67.2], [33.6, 73.60000000000001], True],\n",
       "  [[68.4, 15.200000000000001], [63.6, 12.8], True],\n",
       "  [[87.60000000000001, 28.8], [114.0, 71.2], False],\n",
       "  [[66.0, 59.2], [50.4, 66.4], True],\n",
       "  [[32.4, 27.2], [36.0, 6.4], True],\n",
       "  [[54.0, 60.0], [66.0, 64.0], True],\n",
       "  [[73.2, 56.0], [79.2, 62.4], True],\n",
       "  [[75.60000000000001, 25.6], [106.8, 33.6], False],\n",
       "  [[72.0, 68.8], [74.4, 73.60000000000001], True],\n",
       "  [[67.2, 55.2], [70.8, 13.6], True],\n",
       "  [[75.60000000000001, 21.6], [76.8, 19.2], True],\n",
       "  [[74.4, 66.4], [67.2, 71.2], True],\n",
       "  [[70.8, 49.6], [103.2, 47.2], False],\n",
       "  [[54.0, 20.8], [52.800000000000004, 39.2], True],\n",
       "  [[68.4, 50.4], [78.0, 52.0], True],\n",
       "  [[50.4, 27.2], [64.8, 51.2], True],\n",
       "  [[81.60000000000001, 41.6], [84.0, 22.400000000000002], True],\n",
       "  [[81.60000000000001, 21.6], [110.4, 40.0], False],\n",
       "  [[72.0, 5.6000000000000005], [80.4, 4.0], True],\n",
       "  [[79.2, 10.4], [79.2, 18.400000000000002], True],\n",
       "  [[44.4, 20.0], [56.4, 15.200000000000001], True],\n",
       "  [[44.4, 23.2], [46.800000000000004, 11.200000000000001], True],\n",
       "  [[49.2, 11.200000000000001], [36.0, 8.8], True],\n",
       "  [[90.0, 4.0], [91.2, 8.0], False],\n",
       "  [[46.800000000000004, 52.800000000000004], [15.6, 45.6], True],\n",
       "  [[46.800000000000004, 54.4], [37.2, 66.4], True],\n",
       "  [[31.2, 71.2], [28.8, 77.60000000000001], True],\n",
       "  [[36.0, 68.0], [46.800000000000004, 70.4], True],\n",
       "  [[28.8, 71.2], [9.6, 51.2], True],\n",
       "  [[38.4, 41.6], [48.0, 52.800000000000004], True],\n",
       "  [[69.60000000000001, 64.8], [88.8, 78.4], True],\n",
       "  [[80.4, 63.2], [102.0, 58.4], True],\n",
       "  [[72.0, 60.0], [73.2, 53.6], True],\n",
       "  [[64.8, 59.2], [55.2, 67.2], True],\n",
       "  [[36.0, 69.60000000000001], [26.400000000000002, 76.8], True],\n",
       "  [[39.6, 76.0], [40.800000000000004, 62.4], True],\n",
       "  [[72.0, 61.6], [90.0, 65.6], True],\n",
       "  [[68.4, 48.0], [78.0, 56.0], True],\n",
       "  [[70.8, 59.2], [91.2, 70.4], True],\n",
       "  [[43.2, 10.4], [75.60000000000001, 24.0], False],\n",
       "  [[34.800000000000004, 52.800000000000004], [33.6, 63.2], True],\n",
       "  [[68.4, 52.0], [72.0, 56.800000000000004], True],\n",
       "  [[64.8, 51.2], [61.2, 62.4], True],\n",
       "  [[73.2, 69.60000000000001], [68.4, 76.8], True],\n",
       "  [[51.6, 39.2], [66.0, 41.6], True],\n",
       "  [[76.8, 57.6], [88.8, 60.0], True],\n",
       "  [[70.8, 40.0], [69.60000000000001, 48.0], True],\n",
       "  [[70.8, 48.800000000000004], [82.8, 62.4], True],\n",
       "  [[84.0, 58.4], [109.2, 44.0], False],\n",
       "  [[73.2, 55.2], [70.8, 56.0], True],\n",
       "  [[76.8, 16.8], [82.8, 7.2], True],\n",
       "  [[74.4, 64.8], [76.8, 52.0], True],\n",
       "  [[72.0, 54.4], [78.0, 60.0], True],\n",
       "  [[70.8, 50.4], [81.60000000000001, 61.6], True],\n",
       "  [[73.2, 54.4], [99.60000000000001, 76.8], True],\n",
       "  [[76.8, 60.0], [87.60000000000001, 69.60000000000001], True],\n",
       "  [[76.8, 64.0], [96.0, 60.800000000000004], False],\n",
       "  [[38.4, 28.0], [43.2, 26.400000000000002], True],\n",
       "  [[74.4, 61.6], [92.4, 74.4], True],\n",
       "  [[76.8, 64.0], [75.60000000000001, 59.2], True],\n",
       "  [[79.2, 65.6], [86.4, 74.4], True],\n",
       "  [[76.8, 61.6], [49.2, 39.2], True],\n",
       "  [[68.4, 44.0], [74.4, 76.0], True],\n",
       "  [[72.0, 62.4], [87.60000000000001, 75.2], False],\n",
       "  [[76.8, 69.60000000000001], [87.60000000000001, 77.60000000000001], True],\n",
       "  [[74.4, 69.60000000000001], [42.0, 75.2], True],\n",
       "  [[68.4, 56.800000000000004], [81.60000000000001, 65.6], True],\n",
       "  [[68.4, 60.0], [75.60000000000001, 57.6], True],\n",
       "  [[74.4, 55.2], [85.2, 63.2], True],\n",
       "  [[39.6, 17.6], [37.2, 5.6000000000000005], False],\n",
       "  [[66.0, 55.2], [84.0, 53.6], True],\n",
       "  [[74.4, 60.800000000000004], [84.0, 61.6], True],\n",
       "  [[81.60000000000001, 62.4], [90.0, 60.800000000000004], True],\n",
       "  [[73.2, 57.6], [87.60000000000001, 56.0], True],\n",
       "  [[85.2, 63.2], [85.2, 75.2], True],\n",
       "  [[80.4, 61.6], [84.0, 56.800000000000004], True],\n",
       "  [[80.4, 65.6], [91.2, 75.2], True],\n",
       "  [[80.4, 64.0], [105.60000000000001, 52.0], False],\n",
       "  [[66.0, 42.4], [56.4, 37.6], True],\n",
       "  [[72.0, 56.800000000000004], [87.60000000000001, 57.6], True],\n",
       "  [[74.4, 67.2], [85.2, 24.0], False],\n",
       "  [[46.800000000000004, 20.8], [55.2, 27.2], True],\n",
       "  [[70.8, 53.6], [84.0, 56.0], True],\n",
       "  [[45.6, 60.800000000000004], [54.0, 35.2], True],\n",
       "  [[85.2, 32.8], [106.8, 26.400000000000002], False],\n",
       "  [[93.60000000000001, 12.8], [106.8, 9.6], True],\n",
       "  [[51.6, 10.4], [80.4, 13.6], True],\n",
       "  [[24.0, 59.2], [37.2, 72.0], False],\n",
       "  [[80.4, 66.4], [92.4, 68.8], True],\n",
       "  [[80.4, 61.6], [82.8, 66.4], True],\n",
       "  [[85.2, 57.6], [85.2, 63.2], True],\n",
       "  [[80.4, 44.0], [96.0, 71.2], True]],\n",
       " 20443: [[[33.6, 36.0], [46.800000000000004, 78.4], True],\n",
       "  [[37.2, 56.0], [37.2, 12.8], True],\n",
       "  [[75.60000000000001, 30.400000000000002], [75.60000000000001, 42.4], True],\n",
       "  [[30.0, 59.2], [37.2, 80.0], False],\n",
       "  [[31.2, 39.2], [15.6, 19.2], True],\n",
       "  [[25.2, 30.400000000000002], [36.0, 14.4], True],\n",
       "  [[20.400000000000002, 51.2], [15.6, 62.4], True],\n",
       "  [[73.2, 74.4], [85.2, 77.60000000000001], True],\n",
       "  [[78.0, 76.0], [78.0, 66.4], True],\n",
       "  [[56.4, 44.800000000000004], [61.2, 46.4], True],\n",
       "  [[61.2, 46.4], [49.2, 65.6], True],\n",
       "  [[57.6, 15.200000000000001], [55.2, 29.6], True],\n",
       "  [[51.6, 19.2], [44.4, 56.0], True],\n",
       "  [[50.4, 18.400000000000002], [109.2, 76.8], True],\n",
       "  [[66.0, 44.800000000000004], [56.4, 68.0], True],\n",
       "  [[64.8, 78.4], [76.8, 76.0], True],\n",
       "  [[56.4, 59.2], [79.2, 79.2], True],\n",
       "  [[49.2, 41.6], [63.6, 52.0], True],\n",
       "  [[31.2, 32.8], [45.6, 52.800000000000004], True],\n",
       "  [[54.0, 68.8], [32.4, 44.800000000000004], True],\n",
       "  [[66.0, 11.200000000000001], [73.2, 5.6000000000000005], True],\n",
       "  [[73.2, 13.6], [75.60000000000001, 4.8], True],\n",
       "  [[75.60000000000001, 9.6], [79.2, 10.4], True],\n",
       "  [[31.2, 43.2], [37.2, 68.0], True],\n",
       "  [[58.800000000000004, 60.800000000000004], [51.6, 65.6], True],\n",
       "  [[56.4, 40.0], [44.4, 43.2], True],\n",
       "  [[26.400000000000002, 42.4], [32.4, 46.4], True],\n",
       "  [[51.6, 60.800000000000004], [74.4, 67.2], True],\n",
       "  [[86.4, 56.0], [98.4, 56.0], True],\n",
       "  [[34.800000000000004, 43.2], [34.800000000000004, 33.6], True],\n",
       "  [[75.60000000000001, 61.6], [56.4, 53.6], True],\n",
       "  [[49.2, 26.400000000000002], [38.4, 56.800000000000004], True],\n",
       "  [[22.8, 20.8], [1.2, 8.0], True],\n",
       "  [[69.60000000000001, 57.6], [75.60000000000001, 60.0], True],\n",
       "  [[28.8, 28.8], [30.0, 1.6], True],\n",
       "  [[56.4, 61.6], [43.2, 31.2], True],\n",
       "  [[81.60000000000001, 48.800000000000004], [76.8, 36.800000000000004], True],\n",
       "  [[79.2, 48.800000000000004], [79.2, 1.6], True],\n",
       "  [[40.800000000000004, 64.0], [58.800000000000004, 43.2], True],\n",
       "  [[31.2, 52.0], [20.400000000000002, 59.2], True],\n",
       "  [[31.2, 34.4], [34.800000000000004, 45.6], True],\n",
       "  [[60.0, 40.0], [40.800000000000004, 39.2], True],\n",
       "  [[56.4, 44.800000000000004], [54.0, 29.6], True],\n",
       "  [[87.60000000000001, 28.8], [86.4, 2.4], True]]}"
      ]
     },
     "execution_count": 124,
     "metadata": {},
     "output_type": "execute_result"
    }
   ],
   "source": [
    "juv_nap_passes = get_passes_from_events(italy_events, juv_nap_match_id, jorginho_id, pjanic_id)\n",
    "juv_nap_passes"
   ]
  },
  {
   "cell_type": "code",
   "execution_count": 125,
   "metadata": {},
   "outputs": [
    {
     "data": {
      "text/plain": [
       "[[[56.4, 20.0], [74.4, 23.2], True],\n",
       " [[85.2, 44.800000000000004], [82.8, 46.4], False],\n",
       " [[56.4, 22.400000000000002], [73.2, 3.2], True],\n",
       " [[68.4, 57.6], [92.4, 53.6], True],\n",
       " [[73.2, 60.0], [88.8, 69.60000000000001], True],\n",
       " [[76.8, 61.6], [85.2, 64.0], True],\n",
       " [[67.2, 20.0], [87.60000000000001, 20.0], True],\n",
       " [[32.4, 24.0], [32.4, 35.2], False],\n",
       " [[31.2, 29.6], [34.800000000000004, 38.4], True],\n",
       " [[46.800000000000004, 26.400000000000002],\n",
       "  [69.60000000000001, 15.200000000000001],\n",
       "  True],\n",
       " [[39.6, 11.200000000000001], [49.2, 16.8], True],\n",
       " [[82.8, 60.0], [99.60000000000001, 72.8], True],\n",
       " [[76.8, 59.2], [67.2, 68.8], True],\n",
       " [[76.8, 11.200000000000001], [81.60000000000001, 5.6000000000000005], True],\n",
       " [[73.2, 8.0], [69.60000000000001, 17.6], True],\n",
       " [[62.4, 37.6], [60.0, 21.6], True],\n",
       " [[73.2, 58.4], [86.4, 76.0], True],\n",
       " [[72.0, 61.6], [88.8, 60.0], True],\n",
       " [[81.60000000000001, 50.4], [84.0, 41.6], True],\n",
       " [[74.4, 18.400000000000002], [90.0, 11.200000000000001], True],\n",
       " [[76.8, 16.0], [92.4, 12.0], True],\n",
       " [[79.2, 16.0], [80.4, 20.0], True],\n",
       " [[36.0, 67.2], [33.6, 73.60000000000001], True],\n",
       " [[68.4, 15.200000000000001], [63.6, 12.8], True],\n",
       " [[87.60000000000001, 28.8], [114.0, 71.2], False],\n",
       " [[66.0, 59.2], [50.4, 66.4], True],\n",
       " [[32.4, 27.2], [36.0, 6.4], True],\n",
       " [[54.0, 60.0], [66.0, 64.0], True],\n",
       " [[73.2, 56.0], [79.2, 62.4], True],\n",
       " [[75.60000000000001, 25.6], [106.8, 33.6], False],\n",
       " [[72.0, 68.8], [74.4, 73.60000000000001], True],\n",
       " [[67.2, 55.2], [70.8, 13.6], True],\n",
       " [[75.60000000000001, 21.6], [76.8, 19.2], True],\n",
       " [[74.4, 66.4], [67.2, 71.2], True],\n",
       " [[70.8, 49.6], [103.2, 47.2], False],\n",
       " [[54.0, 20.8], [52.800000000000004, 39.2], True],\n",
       " [[68.4, 50.4], [78.0, 52.0], True],\n",
       " [[50.4, 27.2], [64.8, 51.2], True],\n",
       " [[81.60000000000001, 41.6], [84.0, 22.400000000000002], True],\n",
       " [[81.60000000000001, 21.6], [110.4, 40.0], False],\n",
       " [[72.0, 5.6000000000000005], [80.4, 4.0], True],\n",
       " [[79.2, 10.4], [79.2, 18.400000000000002], True],\n",
       " [[44.4, 20.0], [56.4, 15.200000000000001], True],\n",
       " [[44.4, 23.2], [46.800000000000004, 11.200000000000001], True],\n",
       " [[49.2, 11.200000000000001], [36.0, 8.8], True],\n",
       " [[90.0, 4.0], [91.2, 8.0], False],\n",
       " [[46.800000000000004, 52.800000000000004], [15.6, 45.6], True],\n",
       " [[46.800000000000004, 54.4], [37.2, 66.4], True],\n",
       " [[31.2, 71.2], [28.8, 77.60000000000001], True],\n",
       " [[36.0, 68.0], [46.800000000000004, 70.4], True],\n",
       " [[28.8, 71.2], [9.6, 51.2], True],\n",
       " [[38.4, 41.6], [48.0, 52.800000000000004], True],\n",
       " [[69.60000000000001, 64.8], [88.8, 78.4], True],\n",
       " [[80.4, 63.2], [102.0, 58.4], True],\n",
       " [[72.0, 60.0], [73.2, 53.6], True],\n",
       " [[64.8, 59.2], [55.2, 67.2], True],\n",
       " [[36.0, 69.60000000000001], [26.400000000000002, 76.8], True],\n",
       " [[39.6, 76.0], [40.800000000000004, 62.4], True],\n",
       " [[72.0, 61.6], [90.0, 65.6], True],\n",
       " [[68.4, 48.0], [78.0, 56.0], True],\n",
       " [[70.8, 59.2], [91.2, 70.4], True],\n",
       " [[43.2, 10.4], [75.60000000000001, 24.0], False],\n",
       " [[34.800000000000004, 52.800000000000004], [33.6, 63.2], True],\n",
       " [[68.4, 52.0], [72.0, 56.800000000000004], True],\n",
       " [[64.8, 51.2], [61.2, 62.4], True],\n",
       " [[73.2, 69.60000000000001], [68.4, 76.8], True],\n",
       " [[51.6, 39.2], [66.0, 41.6], True],\n",
       " [[76.8, 57.6], [88.8, 60.0], True],\n",
       " [[70.8, 40.0], [69.60000000000001, 48.0], True],\n",
       " [[70.8, 48.800000000000004], [82.8, 62.4], True],\n",
       " [[84.0, 58.4], [109.2, 44.0], False],\n",
       " [[73.2, 55.2], [70.8, 56.0], True],\n",
       " [[76.8, 16.8], [82.8, 7.2], True],\n",
       " [[74.4, 64.8], [76.8, 52.0], True],\n",
       " [[72.0, 54.4], [78.0, 60.0], True],\n",
       " [[70.8, 50.4], [81.60000000000001, 61.6], True],\n",
       " [[73.2, 54.4], [99.60000000000001, 76.8], True],\n",
       " [[76.8, 60.0], [87.60000000000001, 69.60000000000001], True],\n",
       " [[76.8, 64.0], [96.0, 60.800000000000004], False],\n",
       " [[38.4, 28.0], [43.2, 26.400000000000002], True],\n",
       " [[74.4, 61.6], [92.4, 74.4], True],\n",
       " [[76.8, 64.0], [75.60000000000001, 59.2], True],\n",
       " [[79.2, 65.6], [86.4, 74.4], True],\n",
       " [[76.8, 61.6], [49.2, 39.2], True],\n",
       " [[68.4, 44.0], [74.4, 76.0], True],\n",
       " [[72.0, 62.4], [87.60000000000001, 75.2], False],\n",
       " [[76.8, 69.60000000000001], [87.60000000000001, 77.60000000000001], True],\n",
       " [[74.4, 69.60000000000001], [42.0, 75.2], True],\n",
       " [[68.4, 56.800000000000004], [81.60000000000001, 65.6], True],\n",
       " [[68.4, 60.0], [75.60000000000001, 57.6], True],\n",
       " [[74.4, 55.2], [85.2, 63.2], True],\n",
       " [[39.6, 17.6], [37.2, 5.6000000000000005], False],\n",
       " [[66.0, 55.2], [84.0, 53.6], True],\n",
       " [[74.4, 60.800000000000004], [84.0, 61.6], True],\n",
       " [[81.60000000000001, 62.4], [90.0, 60.800000000000004], True],\n",
       " [[73.2, 57.6], [87.60000000000001, 56.0], True],\n",
       " [[85.2, 63.2], [85.2, 75.2], True],\n",
       " [[80.4, 61.6], [84.0, 56.800000000000004], True],\n",
       " [[80.4, 65.6], [91.2, 75.2], True],\n",
       " [[80.4, 64.0], [105.60000000000001, 52.0], False],\n",
       " [[66.0, 42.4], [56.4, 37.6], True],\n",
       " [[72.0, 56.800000000000004], [87.60000000000001, 57.6], True],\n",
       " [[74.4, 67.2], [85.2, 24.0], False],\n",
       " [[46.800000000000004, 20.8], [55.2, 27.2], True],\n",
       " [[70.8, 53.6], [84.0, 56.0], True],\n",
       " [[45.6, 60.800000000000004], [54.0, 35.2], True],\n",
       " [[85.2, 32.8], [106.8, 26.400000000000002], False],\n",
       " [[93.60000000000001, 12.8], [106.8, 9.6], True],\n",
       " [[51.6, 10.4], [80.4, 13.6], True],\n",
       " [[24.0, 59.2], [37.2, 72.0], False],\n",
       " [[80.4, 66.4], [92.4, 68.8], True],\n",
       " [[80.4, 61.6], [82.8, 66.4], True],\n",
       " [[85.2, 57.6], [85.2, 63.2], True],\n",
       " [[80.4, 44.0], [96.0, 71.2], True]]"
      ]
     },
     "execution_count": 125,
     "metadata": {},
     "output_type": "execute_result"
    }
   ],
   "source": [
    "jorginho_passes = juv_nap_passes[jorginho_id]\n",
    "pjanic_passes = juv_nap_passes[pjanic_id]\n",
    "jorginho_passes"
   ]
  },
  {
   "cell_type": "markdown",
   "metadata": {},
   "source": [
    "This is a function for drawing match ground, heat map and passes of players based on positions and desired color where FALSE for all done passes and TRUE for accurate passes"
   ]
  },
  {
   "cell_type": "code",
   "execution_count": 126,
   "metadata": {},
   "outputs": [],
   "source": [
    "def print_performance_with_arrows(positions, color, print_only_accurate=False):\n",
    "    # Print the field\n",
    "    fig=plt.figure() #set up the figures\n",
    "    fig.set_size_inches(7, 5)\n",
    "    ax=fig.add_subplot(1,1,1)\n",
    "    draw_pitch(ax) #overlay our different objects on the pitch\n",
    "    plt.ylim(-2, 82)\n",
    "    plt.xlim(-2, 122)\n",
    "    plt.axis('off')\n",
    "    # End drawing field\n",
    "    \n",
    "    # Heatmap\n",
    "    x_positions = [p[0][0] for p in positions]\n",
    "    y_positions = [p[0][1] for p in positions]\n",
    "    \n",
    "    sns.kdeplot(x_positions, y_positions, shade = \"True\", color = color, n_levels = 30)\n",
    "       \n",
    "    #Arrows\n",
    "    for p in positions:\n",
    "        is_accurate = p[2]\n",
    "        \n",
    "        start_x = p[0][0]\n",
    "        start_y = p[0][1]\n",
    "        \n",
    "        end_x = p[1][0]\n",
    "        end_y = p[1][1]\n",
    "        \n",
    "        if print_only_accurate:\n",
    "            if is_accurate:\n",
    "                ax.annotate(\"\", xy = (end_x,end_y), xycoords = 'data',\n",
    "                   xytext = (start_x, start_y), textcoords = 'data',\n",
    "                   arrowprops=dict(arrowstyle=\"->\",connectionstyle=\"arc3\", color = \"green\"),)\n",
    "        else:\n",
    "            ax.annotate(\"\", xy = (end_x,end_y), xycoords = 'data',\n",
    "                   xytext = (start_x, start_y), textcoords = 'data',\n",
    "                   arrowprops=dict(arrowstyle=\"->\",connectionstyle=\"arc3\", color = \"blue\"),)\n",
    "\n",
    "    plt.show()"
   ]
  },
  {
   "cell_type": "markdown",
   "metadata": {},
   "source": [
    "Ploting the results."
   ]
  },
  {
   "cell_type": "markdown",
   "metadata": {},
   "source": [
    "As it can be seen for PJANIC; almost all passes done correctly even passes near to opponent goalkeeper. But for Jorginho; He did very well in all regions of playground except passes which are done near the opponent goalkeeper."
   ]
  },
  {
   "cell_type": "code",
   "execution_count": 127,
   "metadata": {},
   "outputs": [
    {
     "data": {
      "image/png": "[encoded data removed]",
      "text/plain": [
       "<Figure size 504x360 with 1 Axes>"
      ]
     },
     "metadata": {},
     "output_type": "display_data"
    },
    {
     "data": {
      "image/png": "[encoded data removed]",
      "text/plain": [
       "<Figure size 504x360 with 1 Axes>"
      ]
     },
     "metadata": {},
     "output_type": "display_data"
    }
   ],
   "source": [
    "print_performance_with_arrows(jorginho_passes, 'red', print_only_accurate=False)\n",
    "print_performance_with_arrows(jorginho_passes, 'red', print_only_accurate=True)"
   ]
  },
  {
   "cell_type": "code",
   "execution_count": 128,
   "metadata": {},
   "outputs": [
    {
     "data": {
      "image/png": "[encoded data removed]",
      "text/plain": [
       "<Figure size 504x360 with 1 Axes>"
      ]
     },
     "metadata": {},
     "output_type": "display_data"
    },
    {
     "data": {
      "image/png": "[encoded data removed]",
      "text/plain": [
       "<Figure size 504x360 with 1 Axes>"
      ]
     },
     "metadata": {},
     "output_type": "display_data"
    }
   ],
   "source": [
    "print_performance_with_arrows(pjanic_passes, 'red', print_only_accurate=False)\n",
    "print_performance_with_arrows(pjanic_passes, 'red', print_only_accurate=True)"
   ]
  },
  {
   "cell_type": "code",
   "execution_count": null,
   "metadata": {},
   "outputs": [],
   "source": []
  }
 ],
 "metadata": {
  "kernelspec": {
   "display_name": "Python 3",
   "language": "python",
   "name": "python3"
  },
  "language_info": {
   "codemirror_mode": {
    "name": "ipython",
    "version": 3
   },
   "file_extension": ".py",
   "mimetype": "text/x-python",
   "name": "python",
   "nbconvert_exporter": "python",
   "pygments_lexer": "ipython3",
   "version": "3.7.3"
  }
 },
 "nbformat": 4,
 "nbformat_minor": 2
}
